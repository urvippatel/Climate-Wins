{
 "cells": [
  {
   "cell_type": "code",
   "execution_count": 1,
   "id": "adce5fff-9210-42b2-9f33-db3a2896f3fd",
   "metadata": {
    "id": "adce5fff-9210-42b2-9f33-db3a2896f3fd"
   },
   "outputs": [
    {
     "name": "stderr",
     "output_type": "stream",
     "text": [
      "/opt/anaconda3/lib/python3.11/site-packages/keras/src/layers/activations/leaky_relu.py:41: UserWarning: Argument `alpha` is deprecated. Use `negative_slope` instead.\n",
      "  warnings.warn(\n"
     ]
    }
   ],
   "source": [
    "import pandas as pd\n",
    "import numpy as np\n",
    "import seaborn as sns\n",
    "import os\n",
    "import operator\n",
    "import time\n",
    "import matplotlib.pyplot as plt\n",
    "from sklearn.preprocessing import LabelEncoder\n",
    "import tensorflow as tf\n",
    "from tensorflow.keras.models import Sequential\n",
    "from tensorflow.keras.layers import Conv1D, Conv2D, Dense, Dropout, BatchNormalization, Flatten, MaxPooling1D, LeakyReLU\n",
    "from tensorflow.keras import utils\n",
    "from tensorflow.keras.optimizers import Adam, SGD, RMSprop, Adadelta, Adagrad, Adamax, Nadam, Ftrl\n",
    "from tensorflow.keras.callbacks import EarlyStopping, ModelCheckpoint\n",
    "from math import floor\n",
    "from sklearn.metrics import make_scorer, accuracy_score\n",
    "# from bayes_opt import BayesianOptimization\n",
    "from sklearn.model_selection import StratifiedKFold\n",
    "\n",
    "# If you still want to explicitly use LeakyReLU\n",
    "LeakyReLU = LeakyReLU(alpha=0.1)"
   ]
  },
  {
   "cell_type": "code",
   "execution_count": 2,
   "id": "3kq5nHYBIBrD",
   "metadata": {
    "colab": {
     "base_uri": "https://localhost:8080/"
    },
    "id": "3kq5nHYBIBrD",
    "outputId": "8bb77440-7955-49af-b394-7d9b7f78b2d4"
   },
   "outputs": [
    {
     "name": "stdout",
     "output_type": "stream",
     "text": [
      "Requirement already satisfied: bayesian-optimization in /opt/anaconda3/lib/python3.11/site-packages (1.4.3)\n",
      "Requirement already satisfied: numpy>=1.9.0 in /opt/anaconda3/lib/python3.11/site-packages (from bayesian-optimization) (1.26.4)\n",
      "Requirement already satisfied: scipy>=1.0.0 in /opt/anaconda3/lib/python3.11/site-packages (from bayesian-optimization) (1.11.4)\n",
      "Requirement already satisfied: scikit-learn>=0.18.0 in /opt/anaconda3/lib/python3.11/site-packages (from bayesian-optimization) (1.4.2)\n",
      "Requirement already satisfied: colorama>=0.4.6 in /opt/anaconda3/lib/python3.11/site-packages (from bayesian-optimization) (0.4.6)\n",
      "Requirement already satisfied: joblib>=1.2.0 in /opt/anaconda3/lib/python3.11/site-packages (from scikit-learn>=0.18.0->bayesian-optimization) (1.2.0)\n",
      "Requirement already satisfied: threadpoolctl>=2.0.0 in /opt/anaconda3/lib/python3.11/site-packages (from scikit-learn>=0.18.0->bayesian-optimization) (2.2.0)\n",
      "Note: you may need to restart the kernel to use updated packages.\n"
     ]
    }
   ],
   "source": [
    "pip install bayesian-optimization\n"
   ]
  },
  {
   "cell_type": "code",
   "execution_count": 3,
   "id": "b4e0777e-7df0-4b59-b86f-533da5468e79",
   "metadata": {
    "id": "b4e0777e-7df0-4b59-b86f-533da5468e79"
   },
   "outputs": [],
   "source": [
    "from keras.models import Sequential\n",
    "from tensorflow.keras.utils import to_categorical\n",
    "import warnings\n",
    "warnings.filterwarnings('ignore')\n",
    "pd.set_option(\"display.max_columns\", None)"
   ]
  },
  {
   "cell_type": "code",
   "execution_count": 4,
   "id": "f7786104",
   "metadata": {
    "id": "f7786104"
   },
   "outputs": [],
   "source": [
    "from sklearn.model_selection import train_test_split"
   ]
  },
  {
   "cell_type": "code",
   "execution_count": 5,
   "id": "d7bdb477-78ec-47d1-87ea-74c34d676504",
   "metadata": {
    "id": "d7bdb477-78ec-47d1-87ea-74c34d676504"
   },
   "outputs": [],
   "source": [
    "from sklearn.metrics import multilabel_confusion_matrix, accuracy_score, confusion_matrix, ConfusionMatrixDisplay"
   ]
  },
  {
   "cell_type": "code",
   "execution_count": 6,
   "id": "1873ea58",
   "metadata": {
    "id": "1873ea58"
   },
   "outputs": [],
   "source": [
    "import warnings\n",
    "warnings.simplefilter('ignore')\n",
    "\n",
    "# sns.pairplot(X_full[['species', 'sepal_length', 'sepal_width', 'petal_length', 'petal_width']], hue = 'species')\n",
    "# plt.show()"
   ]
  },
  {
   "cell_type": "code",
   "execution_count": 8,
   "id": "b0c31b38",
   "metadata": {
    "id": "b0c31b38"
   },
   "outputs": [],
   "source": [
    "path = r'/Users/urvi/Desktop/Machine Learning with Python/Achivement 2/Climate wins 2/Data'"
   ]
  },
  {
   "cell_type": "markdown",
   "id": "e36b96d7-41d1-4283-89e4-3ff69e1fa33a",
   "metadata": {
    "id": "e36b96d7-41d1-4283-89e4-3ff69e1fa33a"
   },
   "source": [
    "# Import and Resize Data"
   ]
  },
  {
   "cell_type": "markdown",
   "id": "eb0b72a2-7229-4bb7-86d3-89dca341dae0",
   "metadata": {
    "id": "eb0b72a2-7229-4bb7-86d3-89dca341dae0"
   },
   "source": [
    "## Import X data"
   ]
  },
  {
   "cell_type": "code",
   "execution_count": 9,
   "id": "d8a5d369-4f08-4f69-8900-0c8359f69f90",
   "metadata": {},
   "outputs": [],
   "source": [
    "X_full = pd.read_csv(os.path.join(path,'Original data ', 'DATASET weather_prediction_imputed.csv'), index_col=False)"
   ]
  },
  {
   "cell_type": "code",
   "execution_count": 10,
   "id": "aa77d730-5a2a-4418-868d-dbf0776bf4a1",
   "metadata": {
    "id": "aa77d730-5a2a-4418-868d-dbf0776bf4a1"
   },
   "outputs": [],
   "source": [
    "X_full.drop(columns=[\"YEAR\", \"MONTH\", \"DAY\"], inplace=True)"
   ]
  },
  {
   "cell_type": "markdown",
   "id": "8ae5283d-8a61-46c5-beb8-cda5b1b6d209",
   "metadata": {
    "id": "8ae5283d-8a61-46c5-beb8-cda5b1b6d209"
   },
   "source": [
    "### Convert to Array"
   ]
  },
  {
   "cell_type": "code",
   "execution_count": 11,
   "id": "c7ebe04d-3fc2-47e3-92da-1c6aedc337df",
   "metadata": {
    "colab": {
     "base_uri": "https://localhost:8080/"
    },
    "id": "c7ebe04d-3fc2-47e3-92da-1c6aedc337df",
    "outputId": "ba5ffd7b-fb47-4327-f899-2bd280fff2d1"
   },
   "outputs": [
    {
     "data": {
      "text/plain": [
       "(22950, 135)"
      ]
     },
     "execution_count": 11,
     "metadata": {},
     "output_type": "execute_result"
    }
   ],
   "source": [
    "X_full = X_full.to_numpy()\n",
    "X_full.shape"
   ]
  },
  {
   "cell_type": "markdown",
   "id": "e01a1aab-c144-426e-b8a0-2cd2e992c0a1",
   "metadata": {
    "id": "e01a1aab-c144-426e-b8a0-2cd2e992c0a1"
   },
   "source": [
    "### Resize to (-1, 15, 9)"
   ]
  },
  {
   "cell_type": "code",
   "execution_count": 12,
   "id": "934067f5-0f43-44f3-a550-42f89f797787",
   "metadata": {
    "colab": {
     "base_uri": "https://localhost:8080/"
    },
    "id": "934067f5-0f43-44f3-a550-42f89f797787",
    "outputId": "858184af-ce86-4fe4-cfe9-ce3816531fea"
   },
   "outputs": [
    {
     "data": {
      "text/plain": [
       "(22950, 15, 9)"
      ]
     },
     "execution_count": 12,
     "metadata": {},
     "output_type": "execute_result"
    }
   ],
   "source": [
    "X_full = X_full.reshape(-1,15,9)\n",
    "X_full.shape"
   ]
  },
  {
   "cell_type": "markdown",
   "id": "d8b7d86a-df27-409a-86dc-cfdf19582aba",
   "metadata": {
    "id": "d8b7d86a-df27-409a-86dc-cfdf19582aba"
   },
   "source": [
    "# Import y data"
   ]
  },
  {
   "cell_type": "code",
   "execution_count": 13,
   "id": "323114fe-0603-4eba-87f2-fc2659e2910d",
   "metadata": {
    "id": "323114fe-0603-4eba-87f2-fc2659e2910d"
   },
   "outputs": [],
   "source": [
    "y_full = pd.read_csv(os.path.join(path,'Original Data ','Dataset-Answers-Weather_Prediction_Pleasant_Weather.csv'), index_col = False)"
   ]
  },
  {
   "cell_type": "code",
   "execution_count": 14,
   "id": "55a32075-127d-4192-8c48-c58988cb383f",
   "metadata": {
    "id": "55a32075-127d-4192-8c48-c58988cb383f"
   },
   "outputs": [],
   "source": [
    "y_full.drop(columns=[\"YEAR\", \"MONTH\", \"DAY\"], inplace=True)"
   ]
  },
  {
   "cell_type": "markdown",
   "id": "9bdd5008-8024-455c-a8a3-d5c62315441e",
   "metadata": {
    "id": "9bdd5008-8024-455c-a8a3-d5c62315441e"
   },
   "source": [
    "### Convert to array"
   ]
  },
  {
   "cell_type": "code",
   "execution_count": 15,
   "id": "a76027e8-ec97-4b9c-9cc4-0e8070eea48f",
   "metadata": {
    "colab": {
     "base_uri": "https://localhost:8080/"
    },
    "id": "a76027e8-ec97-4b9c-9cc4-0e8070eea48f",
    "outputId": "39b3eca5-f955-4e5d-f850-71f57a435fc4"
   },
   "outputs": [
    {
     "data": {
      "text/plain": [
       "(22950, 15)"
      ]
     },
     "execution_count": 15,
     "metadata": {},
     "output_type": "execute_result"
    }
   ],
   "source": [
    "y_full = y_full.to_numpy()\n",
    "y_full.shape"
   ]
  },
  {
   "cell_type": "code",
   "execution_count": 16,
   "id": "79bc33c4-a4ff-4ebd-96dc-a68b72f7b4c3",
   "metadata": {
    "id": "79bc33c4-a4ff-4ebd-96dc-a68b72f7b4c3"
   },
   "outputs": [],
   "source": [
    "y_original = y_full"
   ]
  },
  {
   "cell_type": "markdown",
   "id": "4b4ff02d-618a-4c64-9b44-834cb415f6f8",
   "metadata": {
    "id": "4b4ff02d-618a-4c64-9b44-834cb415f6f8"
   },
   "source": [
    "# this is where the change was made"
   ]
  },
  {
   "cell_type": "code",
   "execution_count": 17,
   "id": "a9f2c3e0-a22e-43bb-aab1-3aa852c792f2",
   "metadata": {
    "colab": {
     "base_uri": "https://localhost:8080/"
    },
    "id": "a9f2c3e0-a22e-43bb-aab1-3aa852c792f2",
    "outputId": "1f0965e5-a62d-49c4-88a4-3fbfcebefd1c"
   },
   "outputs": [
    {
     "name": "stdout",
     "output_type": "stream",
     "text": [
      "(22950,)\n"
     ]
    },
    {
     "data": {
      "text/plain": [
       "array([0, 0, 0, ..., 0, 0, 0])"
      ]
     },
     "execution_count": 17,
     "metadata": {},
     "output_type": "execute_result"
    }
   ],
   "source": [
    "# Use argmax to get rid of on-hot encoding and supply the numerical value.\n",
    "y_full = np.argmax(y_full, axis = 1)\n",
    "print(y_full.shape)\n",
    "y_full"
   ]
  },
  {
   "cell_type": "markdown",
   "id": "e3beb9d1-9bb7-43cd-9e91-4a2895cea455",
   "metadata": {
    "id": "e3beb9d1-9bb7-43cd-9e91-4a2895cea455"
   },
   "source": [
    "### Remove one hot encoding with argmax"
   ]
  },
  {
   "cell_type": "markdown",
   "id": "70b712b1-767b-4893-9f4f-2efbfb0a30bc",
   "metadata": {
    "id": "70b712b1-767b-4893-9f4f-2efbfb0a30bc"
   },
   "source": [
    "# Split into Test and Train Data"
   ]
  },
  {
   "cell_type": "code",
   "execution_count": 18,
   "id": "e3ecaa76-ec5a-4690-837d-e9605e9a83ba",
   "metadata": {
    "id": "e3ecaa76-ec5a-4690-837d-e9605e9a83ba"
   },
   "outputs": [],
   "source": [
    "from sklearn.model_selection import train_test_split\n",
    "X_train, X_test, y_train, y_test = train_test_split(X_full, y_full, test_size=0.3, random_state=42)"
   ]
  },
  {
   "cell_type": "code",
   "execution_count": 19,
   "id": "1c0ce2b4-9b62-49a7-8146-2377cbf6edbb",
   "metadata": {
    "colab": {
     "base_uri": "https://localhost:8080/"
    },
    "id": "1c0ce2b4-9b62-49a7-8146-2377cbf6edbb",
    "outputId": "1fc1df31-6545-408a-cf64-f841d5faca35"
   },
   "outputs": [
    {
     "name": "stdout",
     "output_type": "stream",
     "text": [
      "(16065, 15, 9)\n",
      "(6885, 15, 9)\n",
      "(16065,)\n",
      "(6885,)\n"
     ]
    }
   ],
   "source": [
    "print(X_train.shape)\n",
    "print(X_test.shape)\n",
    "print(y_train.shape)\n",
    "print(y_test.shape)"
   ]
  },
  {
   "cell_type": "code",
   "execution_count": 20,
   "id": "128e8819-4734-4c63-bccb-0da00c51fef7",
   "metadata": {
    "id": "128e8819-4734-4c63-bccb-0da00c51fef7"
   },
   "outputs": [],
   "source": [
    "types = {0:'BASEL_pleasant_weather', 1:'BELGRADE_pleasant_weather',\n",
    "       2:'BUDAPEST_pleasant_weather', 3:'DEBILT_pleasant_weather',\n",
    "       4:'DUSSELDORF_pleasant_weather', 5:'HEATHROW_pleasant_weather',\n",
    "       6:'KASSEL_pleasant_weather', 7:'LJUBLJANA_pleasant_weather',\n",
    "       8:'MAASTRICHT_pleasant_weather', 9:'MADRID_pleasant_weather',\n",
    "       10:'MUNCHENB_pleasant_weather', 11:'OSLO_pleasant_weather',\n",
    "       12:'SONNBLICK_pleasant_weather', 13:'STOCKHOLM_pleasant_weather',\n",
    "       14:'VALENTIA_pleasant_weather'}"
   ]
  },
  {
   "cell_type": "markdown",
   "id": "24aaee02-c648-46c8-b1e1-97df7c2425ed",
   "metadata": {
    "id": "24aaee02-c648-46c8-b1e1-97df7c2425ed"
   },
   "source": [
    "# Optimisation : Bayesian"
   ]
  },
  {
   "cell_type": "markdown",
   "id": "fe97fbc0-9915-4e8f-a8ef-ed226388d75d",
   "metadata": {
    "id": "fe97fbc0-9915-4e8f-a8ef-ed226388d75d"
   },
   "source": [
    "## y data must be binary or multiclass\n",
    "## check for data type"
   ]
  },
  {
   "cell_type": "markdown",
   "id": "3e3fd5bd-2dd3-49ec-af6d-6e6aaf08561a",
   "metadata": {
    "id": "3e3fd5bd-2dd3-49ec-af6d-6e6aaf08561a"
   },
   "source": [
    "from sklearn.utils.multiclass import type_of_target\n",
    "type_of_target(y_train)"
   ]
  },
  {
   "cell_type": "markdown",
   "id": "6f9ae9f7-863e-44f5-8c23-bf592b8a2aed",
   "metadata": {
    "id": "6f9ae9f7-863e-44f5-8c23-bf592b8a2aed"
   },
   "source": [
    "# old y_data reshaping"
   ]
  },
  {
   "cell_type": "code",
   "execution_count": 21,
   "id": "ee05a718-ff12-4cf8-aae7-1a2525d220fb",
   "metadata": {
    "colab": {
     "base_uri": "https://localhost:8080/"
    },
    "id": "ee05a718-ff12-4cf8-aae7-1a2525d220fb",
    "outputId": "56855443-6e52-4ed0-a1f7-b4794d7eda2e"
   },
   "outputs": [
    {
     "name": "stdout",
     "output_type": "stream",
     "text": [
      "[[1. 0. 0. ... 0. 0. 0.]\n",
      " [1. 0. 0. ... 0. 0. 0.]\n",
      " [1. 0. 0. ... 0. 0. 0.]\n",
      " ...\n",
      " [0. 0. 0. ... 0. 0. 0.]\n",
      " [1. 0. 0. ... 0. 0. 0.]\n",
      " [0. 0. 0. ... 0. 0. 0.]]\n"
     ]
    }
   ],
   "source": [
    "# # Turn y_test into one-hot format\n",
    "ty=utils.to_categorical(y_test)\n",
    "print(ty)"
   ]
  },
  {
   "cell_type": "code",
   "execution_count": 22,
   "id": "6cdac2a6-7616-4e1d-b168-33e1be44e815",
   "metadata": {
    "colab": {
     "base_uri": "https://localhost:8080/"
    },
    "id": "6cdac2a6-7616-4e1d-b168-33e1be44e815",
    "outputId": "54f99901-a685-4d8f-b1bf-6c53a98b9ecf"
   },
   "outputs": [
    {
     "name": "stdout",
     "output_type": "stream",
     "text": [
      "(6885,)\n"
     ]
    }
   ],
   "source": [
    "# Use argmax to get rid of on-hot encoding and supply the numerical value.\n",
    "ty = np.argmax(ty, axis = 1)\n",
    "print(ty.shape)"
   ]
  },
  {
   "cell_type": "code",
   "execution_count": 199,
   "id": "5e58ace7-0f48-44f6-afc6-7dc4e3e7ded4",
   "metadata": {
    "colab": {
     "base_uri": "https://localhost:8080/",
     "height": 36
    },
    "id": "5e58ace7-0f48-44f6-afc6-7dc4e3e7ded4",
    "outputId": "ddc35912-2654-4acf-acd3-db9dd62c24ce"
   },
   "outputs": [
    {
     "data": {
      "application/vnd.google.colaboratory.intrinsic+json": {
       "type": "string"
      },
      "text/plain": [
       "'multiclass'"
      ]
     },
     "execution_count": 199,
     "metadata": {},
     "output_type": "execute_result"
    }
   ],
   "source": [
    "type_of_target(ty)"
   ]
  },
  {
   "cell_type": "markdown",
   "id": "61159eb4-2971-48a5-832c-a829cd03c6f6",
   "metadata": {
    "id": "61159eb4-2971-48a5-832c-a829cd03c6f6"
   },
   "source": [
    "# Bayesian Function"
   ]
  },
  {
   "cell_type": "code",
   "execution_count": 200,
   "id": "2084d5a5-bd66-4b88-8410-08a23ae6186c",
   "metadata": {
    "colab": {
     "base_uri": "https://localhost:8080/"
    },
    "id": "2084d5a5-bd66-4b88-8410-08a23ae6186c",
    "outputId": "90b49413-9938-4838-f37b-550d659d203a"
   },
   "outputs": [
    {
     "data": {
      "text/plain": [
       "9"
      ]
     },
     "execution_count": 200,
     "metadata": {},
     "output_type": "execute_result"
    }
   ],
   "source": [
    "timesteps = len(X_train[0])\n",
    "input_dim = len(X_train[0][0])\n",
    "n_classes = 15\n",
    "# Make scorer accuracy\n",
    "score_acc = make_scorer(accuracy_score)\n",
    "len(X_train[0][0])"
   ]
  },
  {
   "cell_type": "code",
   "execution_count": 201,
   "id": "a6970e58-4c7c-4fd0-8c72-712ae2e11dea",
   "metadata": {
    "id": "a6970e58-4c7c-4fd0-8c72-712ae2e11dea"
   },
   "outputs": [],
   "source": [
    "# Create function\n",
    "def bay_area(neurons, activation, kernel, optimizer, learning_rate, batch_size, epochs,\n",
    "              layers1, layers2, normalization, dropout, dropout_rate):\n",
    "    optimizerL = ['SGD', 'Adam', 'RMSprop', 'Adadelta', 'Adagrad', 'Adamax', 'Nadam', 'Ftrl','SGD']\n",
    "    optimizerD= {'Adam':Adam(lr=learning_rate), 'SGD':SGD(lr=learning_rate),\n",
    "                 'RMSprop':RMSprop(lr=learning_rate), 'Adadelta':Adadelta(lr=learning_rate),\n",
    "                 'Adagrad':Adagrad(lr=learning_rate), 'Adamax':Adamax(lr=learning_rate),\n",
    "                 'Nadam':Nadam(lr=learning_rate), 'Ftrl':Ftrl(lr=learning_rate)}\n",
    "    activationL = ['relu', 'sigmoid', 'softplus', 'softsign', 'tanh', 'selu',\n",
    "                   'elu', 'exponential', LeakyReLU,'relu']\n",
    "\n",
    "    neurons = round(neurons)\n",
    "    kernel = round(kernel)\n",
    "    activation = activationL[round(activation)]\n",
    "    optimizer = optimizerD[optimizerL[round(optimizer)]]\n",
    "    batch_size = round(batch_size)\n",
    "\n",
    "    epochs = round(epochs)\n",
    "    layers1 = round(layers1)\n",
    "    layers2 = round(layers2)\n",
    "\n",
    "    def cnn_model():\n",
    "        model = Sequential()\n",
    "        model.add(Conv1D(neurons, kernel_size=kernel,activation=activation, input_shape=(timesteps, input_dim)))\n",
    "        #model.add(Conv1D(32, kernel_size=1,activation='relu', input_shape=(timesteps, input_dim)))\n",
    "\n",
    "        if normalization > 0.5:\n",
    "            model.add(BatchNormalization())\n",
    "        for i in range(layers1):\n",
    "            model.add(Dense(neurons, activation=activation)) #(neurons, activation=activation))\n",
    "        if dropout > 0.5:\n",
    "            model.add(Dropout(dropout_rate, seed=123))\n",
    "        for i in range(layers2):\n",
    "            model.add(Dense(neurons, activation=activation))\n",
    "        model.add(MaxPooling1D())\n",
    "        model.add(Flatten())\n",
    "        model.add(Dense(n_classes, activation='softmax')) #sigmoid softmax\n",
    "        #model.compile(loss='binary_crossentropy', optimizer=optimizer, metrics=['accuracy']) #categorical_crossentropy\n",
    "        model.compile(loss='sparse_categorical_crossentropy', optimizer=optimizer, metrics=['accuracy']) #categorical_crossentropy\n",
    "        return model\n",
    "    es = EarlyStopping(monitor='accuracy', mode='max', verbose=2, patience=20)\n",
    "    nn = KerasClassifier(build_fn=cnn_model, epochs=epochs, batch_size=batch_size, verbose=2)\n",
    "    kfold = StratifiedKFold(n_splits=5, shuffle=True, random_state=123)\n",
    "    score = cross_val_score(nn, X_train, Y_train, scoring=score_acc, cv=kfold, fit_params={'callbacks':[es]}).mean()\n",
    "    return score"
   ]
  },
  {
   "cell_type": "markdown",
   "id": "7e314f4c-e292-4be4-8f81-9b4644e5f9a8",
   "metadata": {
    "id": "7e314f4c-e292-4be4-8f81-9b4644e5f9a8"
   },
   "source": [
    "## for test, 'init_points' be set as only 10.\n",
    "## nn_opt.maximize(init_points=10, n_iter=4) #25"
   ]
  },
  {
   "cell_type": "code",
   "execution_count": 202,
   "id": "pm3ET7vvLen8",
   "metadata": {
    "colab": {
     "base_uri": "https://localhost:8080/"
    },
    "id": "pm3ET7vvLen8",
    "outputId": "4ed01816-4fad-4b1b-f6b9-49bc759f9858"
   },
   "outputs": [
    {
     "name": "stdout",
     "output_type": "stream",
     "text": [
      "|   iter    |  target   | activa... | batch_... |  dropout  | dropou... |  epochs   |  kernel   |  layers1  |  layers2  | learni... |  neurons  | normal... | optimizer |\n",
      "-------------------------------------------------------------------------------------------------------------------------------------------------------------------------\n"
     ]
    },
    {
     "name": "stderr",
     "output_type": "stream",
     "text": [
      "WARNING:absl:`lr` is deprecated in Keras optimizer, please use `learning_rate` or use the legacy optimizer, e.g.,tf.keras.optimizers.legacy.Adam.\n",
      "WARNING:absl:`lr` is deprecated in Keras optimizer, please use `learning_rate` or use the legacy optimizer, e.g.,tf.keras.optimizers.legacy.SGD.\n",
      "WARNING:absl:`lr` is deprecated in Keras optimizer, please use `learning_rate` or use the legacy optimizer, e.g.,tf.keras.optimizers.legacy.RMSprop.\n",
      "WARNING:absl:`lr` is deprecated in Keras optimizer, please use `learning_rate` or use the legacy optimizer, e.g.,tf.keras.optimizers.legacy.Adadelta.\n",
      "WARNING:absl:`lr` is deprecated in Keras optimizer, please use `learning_rate` or use the legacy optimizer, e.g.,tf.keras.optimizers.legacy.Adagrad.\n",
      "WARNING:absl:`lr` is deprecated in Keras optimizer, please use `learning_rate` or use the legacy optimizer, e.g.,tf.keras.optimizers.legacy.Adamax.\n",
      "WARNING:absl:`lr` is deprecated in Keras optimizer, please use `learning_rate` or use the legacy optimizer, e.g.,tf.keras.optimizers.legacy.Nadam.\n",
      "WARNING:absl:`lr` is deprecated in Keras optimizer, please use `learning_rate` or use the legacy optimizer, e.g.,tf.keras.optimizers.legacy.Ftrl.\n"
     ]
    },
    {
     "name": "stdout",
     "output_type": "stream",
     "text": [
      "| \u001b[0m1        \u001b[0m | \u001b[0m0.7566   \u001b[0m | \u001b[0m3.371    \u001b[0m | \u001b[0m960.6    \u001b[0m | \u001b[0m0.732    \u001b[0m | \u001b[0m0.1796   \u001b[0m | \u001b[0m32.48    \u001b[0m | \u001b[0m1.312    \u001b[0m | \u001b[0m1.116    \u001b[0m | \u001b[0m2.732    \u001b[0m | \u001b[0m0.6051   \u001b[0m | \u001b[0m73.73    \u001b[0m | \u001b[0m0.02058  \u001b[0m | \u001b[0m6.789    \u001b[0m |\n"
     ]
    },
    {
     "name": "stderr",
     "output_type": "stream",
     "text": [
      "WARNING:absl:`lr` is deprecated in Keras optimizer, please use `learning_rate` or use the legacy optimizer, e.g.,tf.keras.optimizers.legacy.Adam.\n",
      "WARNING:absl:`lr` is deprecated in Keras optimizer, please use `learning_rate` or use the legacy optimizer, e.g.,tf.keras.optimizers.legacy.SGD.\n",
      "WARNING:absl:`lr` is deprecated in Keras optimizer, please use `learning_rate` or use the legacy optimizer, e.g.,tf.keras.optimizers.legacy.RMSprop.\n",
      "WARNING:absl:`lr` is deprecated in Keras optimizer, please use `learning_rate` or use the legacy optimizer, e.g.,tf.keras.optimizers.legacy.Adadelta.\n",
      "WARNING:absl:`lr` is deprecated in Keras optimizer, please use `learning_rate` or use the legacy optimizer, e.g.,tf.keras.optimizers.legacy.Adagrad.\n",
      "WARNING:absl:`lr` is deprecated in Keras optimizer, please use `learning_rate` or use the legacy optimizer, e.g.,tf.keras.optimizers.legacy.Adamax.\n",
      "WARNING:absl:`lr` is deprecated in Keras optimizer, please use `learning_rate` or use the legacy optimizer, e.g.,tf.keras.optimizers.legacy.Nadam.\n",
      "WARNING:absl:`lr` is deprecated in Keras optimizer, please use `learning_rate` or use the legacy optimizer, e.g.,tf.keras.optimizers.legacy.Ftrl.\n",
      "WARNING:absl:`lr` is deprecated in Keras optimizer, please use `learning_rate` or use the legacy optimizer, e.g.,tf.keras.optimizers.legacy.Adam.\n",
      "WARNING:absl:`lr` is deprecated in Keras optimizer, please use `learning_rate` or use the legacy optimizer, e.g.,tf.keras.optimizers.legacy.SGD.\n",
      "WARNING:absl:`lr` is deprecated in Keras optimizer, please use `learning_rate` or use the legacy optimizer, e.g.,tf.keras.optimizers.legacy.RMSprop.\n",
      "WARNING:absl:`lr` is deprecated in Keras optimizer, please use `learning_rate` or use the legacy optimizer, e.g.,tf.keras.optimizers.legacy.Adadelta.\n",
      "WARNING:absl:`lr` is deprecated in Keras optimizer, please use `learning_rate` or use the legacy optimizer, e.g.,tf.keras.optimizers.legacy.Adagrad.\n",
      "WARNING:absl:`lr` is deprecated in Keras optimizer, please use `learning_rate` or use the legacy optimizer, e.g.,tf.keras.optimizers.legacy.Adamax.\n",
      "WARNING:absl:`lr` is deprecated in Keras optimizer, please use `learning_rate` or use the legacy optimizer, e.g.,tf.keras.optimizers.legacy.Nadam.\n",
      "WARNING:absl:`lr` is deprecated in Keras optimizer, please use `learning_rate` or use the legacy optimizer, e.g.,tf.keras.optimizers.legacy.Ftrl.\n"
     ]
    },
    {
     "name": "stdout",
     "output_type": "stream",
     "text": [
      "| \u001b[95m2        \u001b[0m | \u001b[95m0.7755   \u001b[0m | \u001b[95m7.492    \u001b[0m | \u001b[95m369.9    \u001b[0m | \u001b[95m0.1818   \u001b[0m | \u001b[95m0.05502  \u001b[0m | \u001b[95m44.34    \u001b[0m | \u001b[95m2.05     \u001b[0m | \u001b[95m1.864    \u001b[0m | \u001b[95m1.582    \u001b[0m | \u001b[95m0.6157   \u001b[0m | \u001b[95m22.55    \u001b[0m | \u001b[95m0.2921   \u001b[0m | \u001b[95m2.565    \u001b[0m |\n"
     ]
    },
    {
     "name": "stderr",
     "output_type": "stream",
     "text": [
      "WARNING:absl:`lr` is deprecated in Keras optimizer, please use `learning_rate` or use the legacy optimizer, e.g.,tf.keras.optimizers.legacy.Adam.\n",
      "WARNING:absl:`lr` is deprecated in Keras optimizer, please use `learning_rate` or use the legacy optimizer, e.g.,tf.keras.optimizers.legacy.SGD.\n",
      "WARNING:absl:`lr` is deprecated in Keras optimizer, please use `learning_rate` or use the legacy optimizer, e.g.,tf.keras.optimizers.legacy.RMSprop.\n",
      "WARNING:absl:`lr` is deprecated in Keras optimizer, please use `learning_rate` or use the legacy optimizer, e.g.,tf.keras.optimizers.legacy.Adadelta.\n",
      "WARNING:absl:`lr` is deprecated in Keras optimizer, please use `learning_rate` or use the legacy optimizer, e.g.,tf.keras.optimizers.legacy.Adagrad.\n",
      "WARNING:absl:`lr` is deprecated in Keras optimizer, please use `learning_rate` or use the legacy optimizer, e.g.,tf.keras.optimizers.legacy.Adamax.\n",
      "WARNING:absl:`lr` is deprecated in Keras optimizer, please use `learning_rate` or use the legacy optimizer, e.g.,tf.keras.optimizers.legacy.Nadam.\n",
      "WARNING:absl:`lr` is deprecated in Keras optimizer, please use `learning_rate` or use the legacy optimizer, e.g.,tf.keras.optimizers.legacy.Ftrl.\n"
     ]
    },
    {
     "name": "stdout",
     "output_type": "stream",
     "text": [
      "| \u001b[0m3        \u001b[0m | \u001b[0m0.7609   \u001b[0m | \u001b[0m4.105    \u001b[0m | \u001b[0m828.1    \u001b[0m | \u001b[0m0.1997   \u001b[0m | \u001b[0m0.1543   \u001b[0m | \u001b[0m67.39    \u001b[0m | \u001b[0m1.093    \u001b[0m | \u001b[0m2.215    \u001b[0m | \u001b[0m1.341    \u001b[0m | \u001b[0m0.0744   \u001b[0m | \u001b[0m95.4     \u001b[0m | \u001b[0m0.9656   \u001b[0m | \u001b[0m5.659    \u001b[0m |\n"
     ]
    },
    {
     "name": "stderr",
     "output_type": "stream",
     "text": [
      "WARNING:absl:`lr` is deprecated in Keras optimizer, please use `learning_rate` or use the legacy optimizer, e.g.,tf.keras.optimizers.legacy.Adam.\n",
      "WARNING:absl:`lr` is deprecated in Keras optimizer, please use `learning_rate` or use the legacy optimizer, e.g.,tf.keras.optimizers.legacy.SGD.\n",
      "WARNING:absl:`lr` is deprecated in Keras optimizer, please use `learning_rate` or use the legacy optimizer, e.g.,tf.keras.optimizers.legacy.RMSprop.\n",
      "WARNING:absl:`lr` is deprecated in Keras optimizer, please use `learning_rate` or use the legacy optimizer, e.g.,tf.keras.optimizers.legacy.Adadelta.\n",
      "WARNING:absl:`lr` is deprecated in Keras optimizer, please use `learning_rate` or use the legacy optimizer, e.g.,tf.keras.optimizers.legacy.Adagrad.\n",
      "WARNING:absl:`lr` is deprecated in Keras optimizer, please use `learning_rate` or use the legacy optimizer, e.g.,tf.keras.optimizers.legacy.Adamax.\n",
      "WARNING:absl:`lr` is deprecated in Keras optimizer, please use `learning_rate` or use the legacy optimizer, e.g.,tf.keras.optimizers.legacy.Nadam.\n",
      "WARNING:absl:`lr` is deprecated in Keras optimizer, please use `learning_rate` or use the legacy optimizer, e.g.,tf.keras.optimizers.legacy.Ftrl.\n"
     ]
    },
    {
     "name": "stdout",
     "output_type": "stream",
     "text": [
      "| \u001b[0m4        \u001b[0m | \u001b[0m0.2337   \u001b[0m | \u001b[0m2.742    \u001b[0m | \u001b[0m278.1    \u001b[0m | \u001b[0m0.6842   \u001b[0m | \u001b[0m0.132    \u001b[0m | \u001b[0m29.76    \u001b[0m | \u001b[0m1.99     \u001b[0m | \u001b[0m1.069    \u001b[0m | \u001b[0m2.819    \u001b[0m | \u001b[0m0.2662   \u001b[0m | \u001b[0m69.63    \u001b[0m | \u001b[0m0.3117   \u001b[0m | \u001b[0m3.64     \u001b[0m |\n"
     ]
    },
    {
     "name": "stderr",
     "output_type": "stream",
     "text": [
      "WARNING:absl:`lr` is deprecated in Keras optimizer, please use `learning_rate` or use the legacy optimizer, e.g.,tf.keras.optimizers.legacy.Adam.\n",
      "WARNING:absl:`lr` is deprecated in Keras optimizer, please use `learning_rate` or use the legacy optimizer, e.g.,tf.keras.optimizers.legacy.SGD.\n",
      "WARNING:absl:`lr` is deprecated in Keras optimizer, please use `learning_rate` or use the legacy optimizer, e.g.,tf.keras.optimizers.legacy.RMSprop.\n",
      "WARNING:absl:`lr` is deprecated in Keras optimizer, please use `learning_rate` or use the legacy optimizer, e.g.,tf.keras.optimizers.legacy.Adadelta.\n",
      "WARNING:absl:`lr` is deprecated in Keras optimizer, please use `learning_rate` or use the legacy optimizer, e.g.,tf.keras.optimizers.legacy.Adagrad.\n",
      "WARNING:absl:`lr` is deprecated in Keras optimizer, please use `learning_rate` or use the legacy optimizer, e.g.,tf.keras.optimizers.legacy.Adamax.\n",
      "WARNING:absl:`lr` is deprecated in Keras optimizer, please use `learning_rate` or use the legacy optimizer, e.g.,tf.keras.optimizers.legacy.Nadam.\n",
      "WARNING:absl:`lr` is deprecated in Keras optimizer, please use `learning_rate` or use the legacy optimizer, e.g.,tf.keras.optimizers.legacy.Ftrl.\n"
     ]
    },
    {
     "name": "stdout",
     "output_type": "stream",
     "text": [
      "| \u001b[95m5        \u001b[0m | \u001b[95m0.8041   \u001b[0m | \u001b[95m4.92     \u001b[0m | \u001b[95m347.9    \u001b[0m | \u001b[95m0.9696   \u001b[0m | \u001b[95m0.2325   \u001b[0m | \u001b[95m95.16    \u001b[0m | \u001b[95m2.79     \u001b[0m | \u001b[95m2.196    \u001b[0m | \u001b[95m2.844    \u001b[0m | \u001b[95m0.09761  \u001b[0m | \u001b[95m27.64    \u001b[0m | \u001b[95m0.04523  \u001b[0m | \u001b[95m2.277    \u001b[0m |\n"
     ]
    },
    {
     "name": "stderr",
     "output_type": "stream",
     "text": [
      "WARNING:absl:`lr` is deprecated in Keras optimizer, please use `learning_rate` or use the legacy optimizer, e.g.,tf.keras.optimizers.legacy.Adam.\n",
      "WARNING:absl:`lr` is deprecated in Keras optimizer, please use `learning_rate` or use the legacy optimizer, e.g.,tf.keras.optimizers.legacy.SGD.\n",
      "WARNING:absl:`lr` is deprecated in Keras optimizer, please use `learning_rate` or use the legacy optimizer, e.g.,tf.keras.optimizers.legacy.RMSprop.\n",
      "WARNING:absl:`lr` is deprecated in Keras optimizer, please use `learning_rate` or use the legacy optimizer, e.g.,tf.keras.optimizers.legacy.Adadelta.\n",
      "WARNING:absl:`lr` is deprecated in Keras optimizer, please use `learning_rate` or use the legacy optimizer, e.g.,tf.keras.optimizers.legacy.Adagrad.\n",
      "WARNING:absl:`lr` is deprecated in Keras optimizer, please use `learning_rate` or use the legacy optimizer, e.g.,tf.keras.optimizers.legacy.Adamax.\n",
      "WARNING:absl:`lr` is deprecated in Keras optimizer, please use `learning_rate` or use the legacy optimizer, e.g.,tf.keras.optimizers.legacy.Nadam.\n",
      "WARNING:absl:`lr` is deprecated in Keras optimizer, please use `learning_rate` or use the legacy optimizer, e.g.,tf.keras.optimizers.legacy.Ftrl.\n"
     ]
    },
    {
     "name": "stdout",
     "output_type": "stream",
     "text": [
      "| \u001b[0m6        \u001b[0m | \u001b[0m0.7603   \u001b[0m | \u001b[0m3.498    \u001b[0m | \u001b[0m417.1    \u001b[0m | \u001b[0m0.8287   \u001b[0m | \u001b[0m0.107    \u001b[0m | \u001b[0m42.47    \u001b[0m | \u001b[0m2.085    \u001b[0m | \u001b[0m1.282    \u001b[0m | \u001b[0m2.604    \u001b[0m | \u001b[0m0.08381  \u001b[0m | \u001b[0m98.82    \u001b[0m | \u001b[0m0.7722   \u001b[0m | \u001b[0m1.391    \u001b[0m |\n"
     ]
    },
    {
     "name": "stderr",
     "output_type": "stream",
     "text": [
      "WARNING:absl:`lr` is deprecated in Keras optimizer, please use `learning_rate` or use the legacy optimizer, e.g.,tf.keras.optimizers.legacy.Adam.\n",
      "WARNING:absl:`lr` is deprecated in Keras optimizer, please use `learning_rate` or use the legacy optimizer, e.g.,tf.keras.optimizers.legacy.SGD.\n",
      "WARNING:absl:`lr` is deprecated in Keras optimizer, please use `learning_rate` or use the legacy optimizer, e.g.,tf.keras.optimizers.legacy.RMSprop.\n",
      "WARNING:absl:`lr` is deprecated in Keras optimizer, please use `learning_rate` or use the legacy optimizer, e.g.,tf.keras.optimizers.legacy.Adadelta.\n",
      "WARNING:absl:`lr` is deprecated in Keras optimizer, please use `learning_rate` or use the legacy optimizer, e.g.,tf.keras.optimizers.legacy.Adagrad.\n",
      "WARNING:absl:`lr` is deprecated in Keras optimizer, please use `learning_rate` or use the legacy optimizer, e.g.,tf.keras.optimizers.legacy.Adamax.\n",
      "WARNING:absl:`lr` is deprecated in Keras optimizer, please use `learning_rate` or use the legacy optimizer, e.g.,tf.keras.optimizers.legacy.Nadam.\n",
      "WARNING:absl:`lr` is deprecated in Keras optimizer, please use `learning_rate` or use the legacy optimizer, e.g.,tf.keras.optimizers.legacy.Ftrl.\n"
     ]
    },
    {
     "name": "stdout",
     "output_type": "stream",
     "text": [
      "| \u001b[0m7        \u001b[0m | \u001b[0m0.7673   \u001b[0m | \u001b[0m0.0497   \u001b[0m | \u001b[0m852.4    \u001b[0m | \u001b[0m0.7069   \u001b[0m | \u001b[0m0.2187   \u001b[0m | \u001b[0m81.7     \u001b[0m | \u001b[0m1.148    \u001b[0m | \u001b[0m1.717    \u001b[0m | \u001b[0m1.232    \u001b[0m | \u001b[0m0.8645   \u001b[0m | \u001b[0m66.1     \u001b[0m | \u001b[0m0.3309   \u001b[0m | \u001b[0m0.4449   \u001b[0m |\n"
     ]
    },
    {
     "name": "stderr",
     "output_type": "stream",
     "text": [
      "WARNING:absl:`lr` is deprecated in Keras optimizer, please use `learning_rate` or use the legacy optimizer, e.g.,tf.keras.optimizers.legacy.Adam.\n",
      "WARNING:absl:`lr` is deprecated in Keras optimizer, please use `learning_rate` or use the legacy optimizer, e.g.,tf.keras.optimizers.legacy.SGD.\n",
      "WARNING:absl:`lr` is deprecated in Keras optimizer, please use `learning_rate` or use the legacy optimizer, e.g.,tf.keras.optimizers.legacy.RMSprop.\n",
      "WARNING:absl:`lr` is deprecated in Keras optimizer, please use `learning_rate` or use the legacy optimizer, e.g.,tf.keras.optimizers.legacy.Adadelta.\n",
      "WARNING:absl:`lr` is deprecated in Keras optimizer, please use `learning_rate` or use the legacy optimizer, e.g.,tf.keras.optimizers.legacy.Adagrad.\n",
      "WARNING:absl:`lr` is deprecated in Keras optimizer, please use `learning_rate` or use the legacy optimizer, e.g.,tf.keras.optimizers.legacy.Adamax.\n",
      "WARNING:absl:`lr` is deprecated in Keras optimizer, please use `learning_rate` or use the legacy optimizer, e.g.,tf.keras.optimizers.legacy.Nadam.\n",
      "WARNING:absl:`lr` is deprecated in Keras optimizer, please use `learning_rate` or use the legacy optimizer, e.g.,tf.keras.optimizers.legacy.Ftrl.\n"
     ]
    },
    {
     "name": "stdout",
     "output_type": "stream",
     "text": [
      "| \u001b[0m8        \u001b[0m | \u001b[0m0.6373   \u001b[0m | \u001b[0m2.799    \u001b[0m | \u001b[0m460.1    \u001b[0m | \u001b[0m0.7296   \u001b[0m | \u001b[0m0.1913   \u001b[0m | \u001b[0m90.98    \u001b[0m | \u001b[0m1.944    \u001b[0m | \u001b[0m1.239    \u001b[0m | \u001b[0m2.426    \u001b[0m | \u001b[0m0.7632   \u001b[0m | \u001b[0m60.51    \u001b[0m | \u001b[0m0.771    \u001b[0m | \u001b[0m3.457    \u001b[0m |\n"
     ]
    },
    {
     "name": "stderr",
     "output_type": "stream",
     "text": [
      "WARNING:absl:`lr` is deprecated in Keras optimizer, please use `learning_rate` or use the legacy optimizer, e.g.,tf.keras.optimizers.legacy.Adam.\n",
      "WARNING:absl:`lr` is deprecated in Keras optimizer, please use `learning_rate` or use the legacy optimizer, e.g.,tf.keras.optimizers.legacy.SGD.\n",
      "WARNING:absl:`lr` is deprecated in Keras optimizer, please use `learning_rate` or use the legacy optimizer, e.g.,tf.keras.optimizers.legacy.RMSprop.\n",
      "WARNING:absl:`lr` is deprecated in Keras optimizer, please use `learning_rate` or use the legacy optimizer, e.g.,tf.keras.optimizers.legacy.Adadelta.\n",
      "WARNING:absl:`lr` is deprecated in Keras optimizer, please use `learning_rate` or use the legacy optimizer, e.g.,tf.keras.optimizers.legacy.Adagrad.\n",
      "WARNING:absl:`lr` is deprecated in Keras optimizer, please use `learning_rate` or use the legacy optimizer, e.g.,tf.keras.optimizers.legacy.Adamax.\n",
      "WARNING:absl:`lr` is deprecated in Keras optimizer, please use `learning_rate` or use the legacy optimizer, e.g.,tf.keras.optimizers.legacy.Nadam.\n",
      "WARNING:absl:`lr` is deprecated in Keras optimizer, please use `learning_rate` or use the legacy optimizer, e.g.,tf.keras.optimizers.legacy.Ftrl.\n"
     ]
    },
    {
     "name": "stdout",
     "output_type": "stream",
     "text": [
      "| \u001b[0m9        \u001b[0m | \u001b[0m0.7197   \u001b[0m | \u001b[0m4.705    \u001b[0m | \u001b[0m542.0    \u001b[0m | \u001b[0m0.02542  \u001b[0m | \u001b[0m0.03237  \u001b[0m | \u001b[0m22.51    \u001b[0m | \u001b[0m2.273    \u001b[0m | \u001b[0m1.629    \u001b[0m | \u001b[0m2.017    \u001b[0m | \u001b[0m0.9085   \u001b[0m | \u001b[0m32.44    \u001b[0m | \u001b[0m0.4104   \u001b[0m | \u001b[0m5.289    \u001b[0m |\n",
      "| \u001b[0m10       \u001b[0m | \u001b[0m0.5807   \u001b[0m | \u001b[0m2.059    \u001b[0m | \u001b[0m261.6    \u001b[0m | \u001b[0m0.2898   \u001b[0m | \u001b[0m0.04837  \u001b[0m | \u001b[0m94.38    \u001b[0m | \u001b[0m2.616    \u001b[0m | \u001b[0m2.267    \u001b[0m | \u001b[0m2.743    \u001b[0m | \u001b[0m0.8056   \u001b[0m | \u001b[0m26.79    \u001b[0m | \u001b[0m0.8926   \u001b[0m | \u001b[0m3.775    \u001b[0m |\n"
     ]
    },
    {
     "name": "stderr",
     "output_type": "stream",
     "text": [
      "WARNING:absl:`lr` is deprecated in Keras optimizer, please use `learning_rate` or use the legacy optimizer, e.g.,tf.keras.optimizers.legacy.Adam.\n",
      "WARNING:absl:`lr` is deprecated in Keras optimizer, please use `learning_rate` or use the legacy optimizer, e.g.,tf.keras.optimizers.legacy.SGD.\n",
      "WARNING:absl:`lr` is deprecated in Keras optimizer, please use `learning_rate` or use the legacy optimizer, e.g.,tf.keras.optimizers.legacy.RMSprop.\n",
      "WARNING:absl:`lr` is deprecated in Keras optimizer, please use `learning_rate` or use the legacy optimizer, e.g.,tf.keras.optimizers.legacy.Adadelta.\n",
      "WARNING:absl:`lr` is deprecated in Keras optimizer, please use `learning_rate` or use the legacy optimizer, e.g.,tf.keras.optimizers.legacy.Adagrad.\n",
      "WARNING:absl:`lr` is deprecated in Keras optimizer, please use `learning_rate` or use the legacy optimizer, e.g.,tf.keras.optimizers.legacy.Adamax.\n",
      "WARNING:absl:`lr` is deprecated in Keras optimizer, please use `learning_rate` or use the legacy optimizer, e.g.,tf.keras.optimizers.legacy.Nadam.\n",
      "WARNING:absl:`lr` is deprecated in Keras optimizer, please use `learning_rate` or use the legacy optimizer, e.g.,tf.keras.optimizers.legacy.Ftrl.\n"
     ]
    },
    {
     "name": "stdout",
     "output_type": "stream",
     "text": [
      "| \u001b[0m11       \u001b[0m | \u001b[0m0.6398   \u001b[0m | \u001b[0m9.0      \u001b[0m | \u001b[0m887.1    \u001b[0m | \u001b[0m0.0      \u001b[0m | \u001b[0m0.0      \u001b[0m | \u001b[0m20.0     \u001b[0m | \u001b[0m3.0      \u001b[0m | \u001b[0m3.0      \u001b[0m | \u001b[0m1.101    \u001b[0m | \u001b[0m0.01     \u001b[0m | \u001b[0m17.15    \u001b[0m | \u001b[0m1.0      \u001b[0m | \u001b[0m7.0      \u001b[0m |\n"
     ]
    },
    {
     "name": "stderr",
     "output_type": "stream",
     "text": [
      "WARNING:absl:`lr` is deprecated in Keras optimizer, please use `learning_rate` or use the legacy optimizer, e.g.,tf.keras.optimizers.legacy.Adam.\n",
      "WARNING:absl:`lr` is deprecated in Keras optimizer, please use `learning_rate` or use the legacy optimizer, e.g.,tf.keras.optimizers.legacy.SGD.\n",
      "WARNING:absl:`lr` is deprecated in Keras optimizer, please use `learning_rate` or use the legacy optimizer, e.g.,tf.keras.optimizers.legacy.RMSprop.\n",
      "WARNING:absl:`lr` is deprecated in Keras optimizer, please use `learning_rate` or use the legacy optimizer, e.g.,tf.keras.optimizers.legacy.Adadelta.\n",
      "WARNING:absl:`lr` is deprecated in Keras optimizer, please use `learning_rate` or use the legacy optimizer, e.g.,tf.keras.optimizers.legacy.Adagrad.\n",
      "WARNING:absl:`lr` is deprecated in Keras optimizer, please use `learning_rate` or use the legacy optimizer, e.g.,tf.keras.optimizers.legacy.Adamax.\n",
      "WARNING:absl:`lr` is deprecated in Keras optimizer, please use `learning_rate` or use the legacy optimizer, e.g.,tf.keras.optimizers.legacy.Nadam.\n",
      "WARNING:absl:`lr` is deprecated in Keras optimizer, please use `learning_rate` or use the legacy optimizer, e.g.,tf.keras.optimizers.legacy.Ftrl.\n",
      "WARNING:absl:`lr` is deprecated in Keras optimizer, please use `learning_rate` or use the legacy optimizer, e.g.,tf.keras.optimizers.legacy.Adam.\n",
      "WARNING:absl:`lr` is deprecated in Keras optimizer, please use `learning_rate` or use the legacy optimizer, e.g.,tf.keras.optimizers.legacy.SGD.\n"
     ]
    },
    {
     "name": "stdout",
     "output_type": "stream",
     "text": [
      "| \u001b[0m12       \u001b[0m | \u001b[0m0.6975   \u001b[0m | \u001b[0m5.454    \u001b[0m | \u001b[0m920.8    \u001b[0m | \u001b[0m1.0      \u001b[0m | \u001b[0m0.3      \u001b[0m | \u001b[0m100.0    \u001b[0m | \u001b[0m1.0      \u001b[0m | \u001b[0m1.0      \u001b[0m | \u001b[0m3.0      \u001b[0m | \u001b[0m0.5931   \u001b[0m | \u001b[0m100.0    \u001b[0m | \u001b[0m1.0      \u001b[0m | \u001b[0m7.0      \u001b[0m |\n"
     ]
    },
    {
     "name": "stderr",
     "output_type": "stream",
     "text": [
      "WARNING:absl:`lr` is deprecated in Keras optimizer, please use `learning_rate` or use the legacy optimizer, e.g.,tf.keras.optimizers.legacy.RMSprop.\n",
      "WARNING:absl:`lr` is deprecated in Keras optimizer, please use `learning_rate` or use the legacy optimizer, e.g.,tf.keras.optimizers.legacy.Adadelta.\n",
      "WARNING:absl:`lr` is deprecated in Keras optimizer, please use `learning_rate` or use the legacy optimizer, e.g.,tf.keras.optimizers.legacy.Adagrad.\n",
      "WARNING:absl:`lr` is deprecated in Keras optimizer, please use `learning_rate` or use the legacy optimizer, e.g.,tf.keras.optimizers.legacy.Adamax.\n",
      "WARNING:absl:`lr` is deprecated in Keras optimizer, please use `learning_rate` or use the legacy optimizer, e.g.,tf.keras.optimizers.legacy.Nadam.\n",
      "WARNING:absl:`lr` is deprecated in Keras optimizer, please use `learning_rate` or use the legacy optimizer, e.g.,tf.keras.optimizers.legacy.Ftrl.\n"
     ]
    },
    {
     "name": "stdout",
     "output_type": "stream",
     "text": [
      "| \u001b[0m13       \u001b[0m | \u001b[0m0.7884   \u001b[0m | \u001b[0m1.977    \u001b[0m | \u001b[0m960.5    \u001b[0m | \u001b[0m0.9939   \u001b[0m | \u001b[0m0.184    \u001b[0m | \u001b[0m32.5     \u001b[0m | \u001b[0m2.919    \u001b[0m | \u001b[0m2.972    \u001b[0m | \u001b[0m1.136    \u001b[0m | \u001b[0m0.08323  \u001b[0m | \u001b[0m74.92    \u001b[0m | \u001b[0m0.7677   \u001b[0m | \u001b[0m6.236    \u001b[0m |\n"
     ]
    },
    {
     "name": "stderr",
     "output_type": "stream",
     "text": [
      "WARNING:absl:`lr` is deprecated in Keras optimizer, please use `learning_rate` or use the legacy optimizer, e.g.,tf.keras.optimizers.legacy.Adam.\n",
      "WARNING:absl:`lr` is deprecated in Keras optimizer, please use `learning_rate` or use the legacy optimizer, e.g.,tf.keras.optimizers.legacy.SGD.\n",
      "WARNING:absl:`lr` is deprecated in Keras optimizer, please use `learning_rate` or use the legacy optimizer, e.g.,tf.keras.optimizers.legacy.RMSprop.\n",
      "WARNING:absl:`lr` is deprecated in Keras optimizer, please use `learning_rate` or use the legacy optimizer, e.g.,tf.keras.optimizers.legacy.Adadelta.\n",
      "WARNING:absl:`lr` is deprecated in Keras optimizer, please use `learning_rate` or use the legacy optimizer, e.g.,tf.keras.optimizers.legacy.Adagrad.\n",
      "WARNING:absl:`lr` is deprecated in Keras optimizer, please use `learning_rate` or use the legacy optimizer, e.g.,tf.keras.optimizers.legacy.Adamax.\n",
      "WARNING:absl:`lr` is deprecated in Keras optimizer, please use `learning_rate` or use the legacy optimizer, e.g.,tf.keras.optimizers.legacy.Nadam.\n",
      "WARNING:absl:`lr` is deprecated in Keras optimizer, please use `learning_rate` or use the legacy optimizer, e.g.,tf.keras.optimizers.legacy.Ftrl.\n"
     ]
    },
    {
     "name": "stdout",
     "output_type": "stream",
     "text": [
      "| \u001b[95m14       \u001b[0m | \u001b[95m0.8141   \u001b[0m | \u001b[95m3.485    \u001b[0m | \u001b[95m377.3    \u001b[0m | \u001b[95m0.9587   \u001b[0m | \u001b[95m0.1571   \u001b[0m | \u001b[95m78.78    \u001b[0m | \u001b[95m2.809    \u001b[0m | \u001b[95m2.131    \u001b[0m | \u001b[95m2.895    \u001b[0m | \u001b[95m0.01     \u001b[0m | \u001b[95m48.63    \u001b[0m | \u001b[95m0.4659   \u001b[0m | \u001b[95m0.6582   \u001b[0m |\n",
      "=========================================================================================================================================================================\n",
      "Search completed. Total time: 7.28262399037679 minutes\n"
     ]
    }
   ],
   "source": [
    "import numpy as np\n",
    "import time\n",
    "from bayes_opt import BayesianOptimization\n",
    "from tensorflow.keras.models import Sequential\n",
    "from tensorflow.keras.layers import Conv1D, Dense, Dropout, BatchNormalization, Flatten, MaxPooling1D\n",
    "from tensorflow.keras.optimizers import Adam, SGD, RMSprop, Adadelta, Adagrad, Adamax, Nadam, Ftrl\n",
    "from sklearn.model_selection import train_test_split\n",
    "import tensorflow as tf\n",
    "\n",
    "# Assuming X_train, y_train are already defined and properly shaped\n",
    "# Ensure you import necessary libraries and define your dataset before this block\n",
    "\n",
    "def bay_area(neurons, activation, kernel, optimizer, learning_rate, batch_size, epochs,\n",
    "             layers1, layers2, normalization, dropout, dropout_rate):\n",
    "    # Convert parameters to appropriate types\n",
    "    neurons = int(neurons)\n",
    "    kernel = int(kernel)\n",
    "    batch_size = int(batch_size)\n",
    "    epochs = int(epochs)\n",
    "    layers1 = int(layers1)\n",
    "    layers2 = int(layers2)\n",
    "\n",
    "    # Define the model architecture\n",
    "    model = Sequential([\n",
    "        Conv1D(neurons, kernel_size=kernel, activation='relu', input_shape=(15, 9)),\n",
    "        MaxPooling1D(),\n",
    "        Flatten(),\n",
    "        Dense(15, activation='softmax')\n",
    "    ])\n",
    "\n",
    "    # Choose the optimizer based on input\n",
    "    optimizer_choices = {\n",
    "        0: Adam(lr=learning_rate),\n",
    "        1: SGD(lr=learning_rate),\n",
    "        2: RMSprop(lr=learning_rate),\n",
    "        3: Adadelta(lr=learning_rate),\n",
    "        4: Adagrad(lr=learning_rate),\n",
    "        5: Adamax(lr=learning_rate),\n",
    "        6: Nadam(lr=learning_rate),\n",
    "        7: Ftrl(lr=learning_rate)\n",
    "    }\n",
    "    optimizer = optimizer_choices[int(optimizer)]\n",
    "\n",
    "    # Compile model\n",
    "    model.compile(loss='sparse_categorical_crossentropy', optimizer=optimizer, metrics=['accuracy'])\n",
    "\n",
    "    # Fit model\n",
    "    model.fit(X_train, y_train, epochs=epochs, batch_size=batch_size, verbose=0)\n",
    "\n",
    "    # Evaluate model\n",
    "    loss, accuracy = model.evaluate(X_test, y_test, verbose=0)\n",
    "    return accuracy  # Return the accuracy as the metric to maximize\n",
    "\n",
    "# Set start time\n",
    "start = time.time()\n",
    "\n",
    "# Parameters for Bayesian optimization\n",
    "params = {\n",
    "    'neurons': (10, 100),\n",
    "    'kernel': (1, 3),\n",
    "    'activation': (0, 9),\n",
    "    'optimizer': (0, 7),\n",
    "    'learning_rate': (0.01, 1),\n",
    "    'batch_size': (200, 1000),\n",
    "    'epochs': (20, 100),\n",
    "    'layers1': (1, 3),\n",
    "    'layers2': (1, 3),\n",
    "    'normalization': (0, 1),\n",
    "    'dropout': (0, 1),\n",
    "    'dropout_rate': (0, 0.3)\n",
    "}\n",
    "\n",
    "# Initialize Bayesian Optimization\n",
    "nn_opt = BayesianOptimization(bay_area, params, random_state=42)\n",
    "nn_opt.maximize(init_points=10, n_iter=4)\n",
    "\n",
    "# Print total time taken\n",
    "print('Search completed. Total time: %s minutes' % ((time.time() - start) / 60))\n"
   ]
  },
  {
   "cell_type": "code",
   "execution_count": 203,
   "id": "NYFtgr3HI1CC",
   "metadata": {
    "id": "NYFtgr3HI1CC"
   },
   "outputs": [],
   "source": [
    "import tensorflow as tf\n",
    "from tensorflow.keras.models import Sequential\n",
    "from tensorflow.keras.layers import Dense, Dropout, BatchNormalization, LeakyReLU, Flatten\n",
    "\n",
    "def build_model(neurons, kernel, activation_function, optimizer, layers1, layers2, normalization, dropout, dropout_rate):\n",
    "    \"\"\"\n",
    "    Builds and returns a compiled Keras model based on the given parameters.\n",
    "\n",
    "    Parameters:\n",
    "    - neurons: Number of neurons in each dense layer.\n",
    "    - kernel: Not used in this dense model example, intended for convolutional layers.\n",
    "    - activation_function: Activation function to use in each dense layer.\n",
    "    - optimizer: Optimizer to use for compiling the model.\n",
    "    - layers1: Number of dense layers in the first block.\n",
    "    - layers2: Number of dense layers in the second block.\n",
    "    - normalization: Whether to use batch normalization (1: yes, 0: no).\n",
    "    - dropout: Whether to use dropout layers (1: yes, 0: no).\n",
    "    - dropout_rate: Rate of dropout if dropout is used.\n",
    "    \"\"\"\n",
    "    model = Sequential()\n",
    "\n",
    "    # First block of layers\n",
    "    for _ in range(layers1):\n",
    "        model.add(Dense(neurons, activation=activation_function))\n",
    "        if normalization:\n",
    "            model.add(BatchNormalization())\n",
    "        if dropout:\n",
    "            model.add(Dropout(dropout_rate))\n",
    "\n",
    "    # Optional flattening step if using convolutional layers\n",
    "    model.add(Flatten())  # You can remove this if not appropriate\n",
    "\n",
    "    # Second block of layers\n",
    "    for _ in range(layers2):\n",
    "        model.add(Dense(neurons, activation=activation_function))\n",
    "        if normalization:\n",
    "            model.add(BatchNormalization())\n",
    "        if dropout:\n",
    "            model.add(Dropout(dropout_rate))\n",
    "\n",
    "    # Output layer\n",
    "    model.add(Dense(1, activation='sigmoid'))  # Adjust the output layer based on your specific problem (e.g., number of classes)\n",
    "\n",
    "    model.compile(optimizer=optimizer, loss='binary_crossentropy', metrics=['accuracy'])  # Adjust the loss function based on your specific problem\n",
    "    return model\n"
   ]
  },
  {
   "cell_type": "code",
   "execution_count": 204,
   "id": "de437b72-52a2-41df-9d40-1e550f096763",
   "metadata": {
    "colab": {
     "base_uri": "https://localhost:8080/"
    },
    "id": "de437b72-52a2-41df-9d40-1e550f096763",
    "outputId": "17da9f26-63d5-4f8b-d716-9c84f366daad"
   },
   "outputs": [
    {
     "name": "stderr",
     "output_type": "stream",
     "text": [
      "WARNING:absl:`lr` is deprecated in Keras optimizer, please use `learning_rate` or use the legacy optimizer, e.g.,tf.keras.optimizers.legacy.Adam.\n",
      "WARNING:absl:`lr` is deprecated in Keras optimizer, please use `learning_rate` or use the legacy optimizer, e.g.,tf.keras.optimizers.legacy.SGD.\n",
      "WARNING:absl:`lr` is deprecated in Keras optimizer, please use `learning_rate` or use the legacy optimizer, e.g.,tf.keras.optimizers.legacy.RMSprop.\n",
      "WARNING:absl:`lr` is deprecated in Keras optimizer, please use `learning_rate` or use the legacy optimizer, e.g.,tf.keras.optimizers.legacy.Adadelta.\n",
      "WARNING:absl:`lr` is deprecated in Keras optimizer, please use `learning_rate` or use the legacy optimizer, e.g.,tf.keras.optimizers.legacy.Adagrad.\n",
      "WARNING:absl:`lr` is deprecated in Keras optimizer, please use `learning_rate` or use the legacy optimizer, e.g.,tf.keras.optimizers.legacy.Adamax.\n",
      "WARNING:absl:`lr` is deprecated in Keras optimizer, please use `learning_rate` or use the legacy optimizer, e.g.,tf.keras.optimizers.legacy.Nadam.\n",
      "WARNING:absl:`lr` is deprecated in Keras optimizer, please use `learning_rate` or use the legacy optimizer, e.g.,tf.keras.optimizers.legacy.Ftrl.\n"
     ]
    },
    {
     "data": {
      "text/plain": [
       "{'activation': 'softsign',\n",
       " 'batch_size': 377,\n",
       " 'dropout': 0.9586780748719524,\n",
       " 'dropout_rate': 0.15711952531709955,\n",
       " 'epochs': 79,\n",
       " 'kernel': 2.809082172587989,\n",
       " 'layers1': 2,\n",
       " 'layers2': 3,\n",
       " 'learning_rate': 0.01,\n",
       " 'neurons': 49,\n",
       " 'normalization': 0.46587766631288285,\n",
       " 'optimizer': <keras.src.optimizers.sgd.SGD at 0x7a45550db0a0>}"
      ]
     },
     "execution_count": 204,
     "metadata": {},
     "output_type": "execute_result"
    }
   ],
   "source": [
    "optimum = nn_opt.max['params']\n",
    "learning_rate = optimum['learning_rate']\n",
    "activationL = ['relu', 'sigmoid', 'softplus', 'softsign', 'tanh', 'selu',\n",
    "               'elu', 'exponential', LeakyReLU,'relu']\n",
    "optimum['activation'] = activationL[round(optimum['activation'])]\n",
    "optimum['batch_size'] = round(optimum['batch_size'])\n",
    "optimum['epochs'] = round(optimum['epochs'])\n",
    "optimum['layers1'] = round(optimum['layers1'])\n",
    "optimum['layers2'] = round(optimum['layers2'])\n",
    "optimum['neurons'] = round(optimum['neurons'])\n",
    "optimizerL = ['Adam', 'SGD', 'RMSprop', 'Adadelta', 'Adagrad', 'Adamax', 'Nadam', 'Ftrl','Adam']\n",
    "optimizerD= {'Adam':Adam(lr=learning_rate), 'SGD':SGD(lr=learning_rate),\n",
    "             'RMSprop':RMSprop(lr=learning_rate), 'Adadelta':Adadelta(lr=learning_rate),\n",
    "             'Adagrad':Adagrad(lr=learning_rate), 'Adamax':Adamax(lr=learning_rate),\n",
    "             'Nadam':Nadam(lr=learning_rate), 'Ftrl':Ftrl(lr=learning_rate)}\n",
    "optimum['optimizer'] = optimizerD[optimizerL[round(optimum['optimizer'])]]\n",
    "optimum"
   ]
  },
  {
   "cell_type": "code",
   "execution_count": 205,
   "id": "f3fbd213-82d8-453b-933d-8a823173216c",
   "metadata": {
    "id": "f3fbd213-82d8-453b-933d-8a823173216c"
   },
   "outputs": [],
   "source": [
    "####Need to add learning rate to the optimizer type??\n",
    "\n",
    "epochs = 91\n",
    "batch_size = 460\n",
    "#n_hidden = 32\n",
    "\n",
    "timesteps = len(X_train[0])\n",
    "input_dim = len(X_train[0][0])\n",
    "n_classes = 14 #_count_classes(y_train)\n",
    "layers1 = 1\n",
    "layers2 = 2\n",
    "activation = 'softsign'\n",
    "kernel = 2\n",
    "neurons = 61\n",
    "normalization = 0.770967179954561\n",
    "dropout = 0.7296061783380641\n",
    "dropout_rate = 0.19126724140656393\n",
    "optimizer = 'Adadelta'\n",
    "\n",
    "model = Sequential()\n",
    "model.add(Conv1D(neurons, kernel_size=kernel, activation=activation, input_shape=(timesteps, input_dim)))\n",
    "if normalization > 0.5:\n",
    "    model.add(BatchNormalization())\n",
    "for i in range(layers1):\n",
    "    model.add(Dense(neurons, activation=activation))\n",
    "if dropout > 0.5:\n",
    "    model.add(Dropout(dropout_rate, seed=123))\n",
    "for i in range(layers2):\n",
    "    model.add(Dense(neurons, activation=activation))\n",
    "model.add(MaxPooling1D())\n",
    "model.add(Flatten())\n",
    "model.add(Dense(n_classes, activation='softmax')) #softmax sigmoid\n",
    "model.compile(loss='sparse_categorical_crossentropy', optimizer=optimizer, metrics=['accuracy']) #binary_crossentropy"
   ]
  },
  {
   "cell_type": "markdown",
   "id": "8ae3e00e-0c2c-4903-b2d0-a3343ab0d3d2",
   "metadata": {
    "id": "8ae3e00e-0c2c-4903-b2d0-a3343ab0d3d2"
   },
   "source": [
    "# Making the confusion matrix"
   ]
  },
  {
   "cell_type": "code",
   "execution_count": 206,
   "id": "c691f46a-0769-4834-9079-799ff5c1c423",
   "metadata": {
    "id": "c691f46a-0769-4834-9079-799ff5c1c423"
   },
   "outputs": [],
   "source": [
    "def confusion_matrix(Y_true, Y_pred):\n",
    "    Y_true = pd.Series([activities[y] for y in np.argmax(Y_true, axis=1)])\n",
    "    Y_pred = pd.Series([activities[y] for y in np.argmax(Y_pred, axis=1)])\n",
    "    return pd.crosstab(Y_true, Y_pred, rownames=['True'], colnames=['Pred'])"
   ]
  },
  {
   "cell_type": "code",
   "execution_count": 207,
   "id": "39e0abb2-18a7-48be-87c4-b46ca18a0781",
   "metadata": {
    "id": "39e0abb2-18a7-48be-87c4-b46ca18a0781"
   },
   "outputs": [],
   "source": [
    "## when using the y_test array it read an error, so I reshaped and this allowed the confusion matrix to run"
   ]
  },
  {
   "cell_type": "code",
   "execution_count": 208,
   "id": "cbcdc41c-1227-4469-994f-d4d7af967ed2",
   "metadata": {
    "id": "cbcdc41c-1227-4469-994f-d4d7af967ed2"
   },
   "outputs": [],
   "source": [
    "y_test_origshape = y_test.reshape(-1,15)"
   ]
  },
  {
   "cell_type": "code",
   "execution_count": 209,
   "id": "2e4cd491-1d76-44f5-8e4f-c21a36abda93",
   "metadata": {
    "colab": {
     "base_uri": "https://localhost:8080/"
    },
    "id": "2e4cd491-1d76-44f5-8e4f-c21a36abda93",
    "outputId": "c3573c08-9720-420a-e39e-5ca9f78c605c"
   },
   "outputs": [
    {
     "data": {
      "text/plain": [
       "(459, 15)"
      ]
     },
     "execution_count": 209,
     "metadata": {},
     "output_type": "execute_result"
    }
   ],
   "source": [
    "y_test_origshape.shape"
   ]
  },
  {
   "cell_type": "code",
   "execution_count": 210,
   "id": "29b113f4-523a-4b17-a8e0-46598f4c8dd8",
   "metadata": {
    "id": "29b113f4-523a-4b17-a8e0-46598f4c8dd8"
   },
   "outputs": [],
   "source": [
    " # activities = {\n",
    " #     0: 'Unpleasant',\n",
    " #     1: 'Pleasant'\n",
    " #     }"
   ]
  },
  {
   "cell_type": "code",
   "execution_count": 211,
   "id": "daab00e9-3940-4c84-8ed9-c13a71aefeb5",
   "metadata": {
    "id": "daab00e9-3940-4c84-8ed9-c13a71aefeb5"
   },
   "outputs": [],
   "source": [
    "# activities = {\n",
    "#     0: \"cloud_cover\",\n",
    "#     1: \"humidity\",\n",
    "#     2: \"pressure\",\n",
    "#     3: \"global_radiation\",\n",
    "#     4: \"precipitation\",\n",
    "#     5: \"sunshine\",\n",
    "#     6: \"temp_mean\",\n",
    "#     7: \"temp_min\",\n",
    "#     8: \"temp_max\"}"
   ]
  },
  {
   "cell_type": "code",
   "execution_count": 212,
   "id": "47f1aa2c-7eb9-4ac8-ab69-7d9f5835d160",
   "metadata": {
    "id": "47f1aa2c-7eb9-4ac8-ab69-7d9f5835d160"
   },
   "outputs": [],
   "source": [
    "activities = {\n",
    "    0: \"BASEL\",\n",
    "    1: \"BELGRADE\",\n",
    "    2: \"BUDAPEST\",\n",
    "    3: \"DEBILT\",\n",
    "    4: \"DUSSELDORF\",\n",
    "    5: \"HEATHROW\",\n",
    "    6: \"KASSEL\",\n",
    "    7: \"LJUBLJANA\",\n",
    "    8: \"MAASTRICHT\",\n",
    "    9: \"MADRID\",\n",
    "    10: \"MUNCHENB\",\n",
    "    11: \"OSLO\",\n",
    "    12: \"SONNBLICK\",\n",
    "    13: \"STOCKHOLM\",\n",
    "    14: \"VALENTIA\"\n",
    "    }"
   ]
  },
  {
   "cell_type": "code",
   "execution_count": 213,
   "id": "42b1abd7-707b-474d-93e2-56c9df1d6a30",
   "metadata": {
    "id": "42b1abd7-707b-474d-93e2-56c9df1d6a30"
   },
   "outputs": [],
   "source": [
    "# The confusion matrix was not as expected. I did not understand why it was not predicting"
   ]
  },
  {
   "cell_type": "code",
   "execution_count": 214,
   "id": "bec9750e-5b7e-4d61-8c42-a1304ca34f34",
   "metadata": {
    "colab": {
     "base_uri": "https://localhost:8080/"
    },
    "id": "bec9750e-5b7e-4d61-8c42-a1304ca34f34",
    "outputId": "2dd79300-edd4-45d2-a5d6-15c94f146d37"
   },
   "outputs": [
    {
     "name": "stdout",
     "output_type": "stream",
     "text": [
      "216/216 [==============================] - 2s 7ms/step\n",
      "Pred        BELGRADE  BUDAPEST  DEBILT  DUSSELDORF  HEATHROW  LJUBLJANA  \\\n",
      "True                                                                      \n",
      "BASEL              2         1      18           4         3          0   \n",
      "BELGRADE           3         0      25           1         3          1   \n",
      "BUDAPEST           4         1      19           3         2          0   \n",
      "DEBILT             5         0       9           1         1          0   \n",
      "DUSSELDORF         1         1      11           0         2          0   \n",
      "HEATHROW           0         0      12           1         2          0   \n",
      "KASSEL             0         0      14           1         1          0   \n",
      "LJUBLJANA          1         0      13           1         1          0   \n",
      "MAASTRICHT         2         0      12           0         0          0   \n",
      "MADRID             1         0      13           1         0          0   \n",
      "MUNCHENB           0         0      10           2         2          0   \n",
      "OSLO               0         0       7           0         0          0   \n",
      "SONNBLICK          2         0       9           3         0          0   \n",
      "STOCKHOLM          0         0       7           0         2          0   \n",
      "VALENTIA           0         0       8           0         0          0   \n",
      "\n",
      "Pred        MAASTRICHT  MUNCHENB  OSLO  STOCKHOLM  \n",
      "True                                               \n",
      "BASEL                1        13     3          0  \n",
      "BELGRADE             0        17     5          1  \n",
      "BUDAPEST             0        15     3          2  \n",
      "DEBILT               0        10     3          0  \n",
      "DUSSELDORF           0         7     3          1  \n",
      "HEATHROW             0        10     7          1  \n",
      "KASSEL               1         8     3          2  \n",
      "LJUBLJANA            0         8     1          3  \n",
      "MAASTRICHT           0         8     4          1  \n",
      "MADRID               0        14     2          0  \n",
      "MUNCHENB             1        15     2          1  \n",
      "OSLO                 1         5     1          1  \n",
      "SONNBLICK            0         2     1          1  \n",
      "STOCKHOLM            0         6     1          1  \n",
      "VALENTIA             1         9     4          0  \n"
     ]
    }
   ],
   "source": [
    "# Evaluate\n",
    "print(confusion_matrix(y_test_origshape,model.predict(X_test)))"
   ]
  },
  {
   "cell_type": "markdown",
   "id": "e68cf9fc-ed03-4231-9c5b-269ad7662057",
   "metadata": {
    "id": "e68cf9fc-ed03-4231-9c5b-269ad7662057"
   },
   "source": []
  },
  {
   "cell_type": "markdown",
   "id": "79c37993-d794-4f19-a26f-ca6d3e445459",
   "metadata": {
    "id": "79c37993-d794-4f19-a26f-ca6d3e445459"
   },
   "source": [
    "# CNN RELU"
   ]
  },
  {
   "cell_type": "code",
   "execution_count": 215,
   "id": "5e7b6cc1-ea11-48c2-92fb-39fbb6851d57",
   "metadata": {
    "id": "5e7b6cc1-ea11-48c2-92fb-39fbb6851d57"
   },
   "outputs": [],
   "source": [
    "def convert(inputx):\n",
    "  for t_list in inputx:\n",
    "    for i,h in enumerate(t_list):\n",
    "      if h==0:\n",
    "        yield f\"{types[i]}\".replace(\"_ple\", \"_unple\")\n",
    "      else:\n",
    "        yield f\"{types[i]}\""
   ]
  },
  {
   "cell_type": "code",
   "execution_count": 216,
   "id": "db00d597-8820-44fa-b847-a31b26cc9132",
   "metadata": {
    "colab": {
     "base_uri": "https://localhost:8080/"
    },
    "id": "db00d597-8820-44fa-b847-a31b26cc9132",
    "outputId": "15cab246-869d-482b-eac9-6eb6842f7aff"
   },
   "outputs": [
    {
     "name": "stdout",
     "output_type": "stream",
     "text": [
      "Model: \"sequential_50\"\n",
      "_________________________________________________________________\n",
      " Layer (type)                Output Shape              Param #   \n",
      "=================================================================\n",
      " conv1d_42 (Conv1D)          (None, 14, 64)            1216      \n",
      "                                                                 \n",
      " dense_85 (Dense)            (None, 14, 32)            2080      \n",
      "                                                                 \n",
      " max_pooling1d_42 (MaxPooli  (None, 7, 32)             0         \n",
      " ng1D)                                                           \n",
      "                                                                 \n",
      " flatten_48 (Flatten)        (None, 224)               0         \n",
      "                                                                 \n",
      " dense_86 (Dense)            (None, 15)                3375      \n",
      "                                                                 \n",
      "=================================================================\n",
      "Total params: 6671 (26.06 KB)\n",
      "Trainable params: 6671 (26.06 KB)\n",
      "Non-trainable params: 0 (0.00 Byte)\n",
      "_________________________________________________________________\n"
     ]
    }
   ],
   "source": [
    "model = Sequential()\n",
    "model.add(Conv1D(64, kernel_size=2, activation='relu', input_shape=(15,9))) #64\n",
    "model.add(Dense(32, activation='relu')) #16\n",
    "model.add(MaxPooling1D())\n",
    "model.add(Flatten())\n",
    "model.add(Dense(15, activation='relu')) #3\n",
    "model.compile(loss='categorical_crossentropy', optimizer='adam', metrics=['accuracy'])\n",
    "model.summary()"
   ]
  },
  {
   "cell_type": "code",
   "execution_count": 217,
   "id": "dc282ef8-f6aa-4558-9406-eb791f9aeb51",
   "metadata": {
    "colab": {
     "base_uri": "https://localhost:8080/"
    },
    "id": "dc282ef8-f6aa-4558-9406-eb791f9aeb51",
    "outputId": "b403db6f-8da6-4a47-9ae5-3c031b67413b",
    "scrolled": true
   },
   "outputs": [
    {
     "name": "stdout",
     "output_type": "stream",
     "text": [
      "Model: \"sequential_51\"\n",
      "_________________________________________________________________\n",
      " Layer (type)                Output Shape              Param #   \n",
      "=================================================================\n",
      " conv1d_43 (Conv1D)          (None, 14, 64)            1216      \n",
      "                                                                 \n",
      " dense_87 (Dense)            (None, 14, 16)            1040      \n",
      "                                                                 \n",
      " max_pooling1d_43 (MaxPooli  (None, 7, 16)             0         \n",
      " ng1D)                                                           \n",
      "                                                                 \n",
      " flatten_49 (Flatten)        (None, 112)               0         \n",
      "                                                                 \n",
      " dense_88 (Dense)            (None, 15)                1695      \n",
      "                                                                 \n",
      "=================================================================\n",
      "Total params: 3951 (15.43 KB)\n",
      "Trainable params: 3951 (15.43 KB)\n",
      "Non-trainable params: 0 (0.00 Byte)\n",
      "_________________________________________________________________\n"
     ]
    }
   ],
   "source": [
    "model = Sequential()\n",
    "model.add(Conv1D(64, kernel_size=2, activation='relu', input_shape=(15,9))) #64\n",
    "model.add(Dense(16, activation='relu')) #16\n",
    "model.add(MaxPooling1D())\n",
    "model.add(Flatten())\n",
    "model.add(Dense(15, activation='softmax')) #3\n",
    "model.compile(loss='sparse_categorical_crossentropy', optimizer='adam', metrics=['accuracy'])\n",
    "model.summary()"
   ]
  },
  {
   "cell_type": "code",
   "execution_count": 218,
   "id": "988d91ac-22a5-4326-8233-d0b120bf698f",
   "metadata": {
    "colab": {
     "base_uri": "https://localhost:8080/"
    },
    "id": "988d91ac-22a5-4326-8233-d0b120bf698f",
    "outputId": "15014cf0-9d48-4a10-dbc9-c7c9b9c8cc5c",
    "scrolled": true
   },
   "outputs": [
    {
     "name": "stdout",
     "output_type": "stream",
     "text": [
      "Epoch 1/30\n",
      "503/503 [==============================] - 3s 3ms/step - loss: 1.0427 - accuracy: 0.6691\n",
      "Epoch 2/30\n",
      "503/503 [==============================] - 2s 3ms/step - loss: 0.7475 - accuracy: 0.7448\n",
      "Epoch 3/30\n",
      "503/503 [==============================] - 3s 6ms/step - loss: 0.6866 - accuracy: 0.7633\n",
      "Epoch 4/30\n",
      "503/503 [==============================] - 6s 12ms/step - loss: 0.6406 - accuracy: 0.7801\n",
      "Epoch 5/30\n",
      "503/503 [==============================] - 6s 12ms/step - loss: 0.6179 - accuracy: 0.7857\n",
      "Epoch 6/30\n",
      "503/503 [==============================] - 5s 10ms/step - loss: 0.5876 - accuracy: 0.7941\n",
      "Epoch 7/30\n",
      "503/503 [==============================] - 8s 16ms/step - loss: 0.5631 - accuracy: 0.8017\n",
      "Epoch 8/30\n",
      "503/503 [==============================] - 6s 11ms/step - loss: 0.5389 - accuracy: 0.8105\n",
      "Epoch 9/30\n",
      "503/503 [==============================] - 3s 7ms/step - loss: 0.5298 - accuracy: 0.8102\n",
      "Epoch 10/30\n",
      "503/503 [==============================] - 6s 11ms/step - loss: 0.5065 - accuracy: 0.8195\n",
      "Epoch 11/30\n",
      "503/503 [==============================] - 4s 7ms/step - loss: 0.4900 - accuracy: 0.8255\n",
      "Epoch 12/30\n",
      "503/503 [==============================] - 4s 8ms/step - loss: 0.4786 - accuracy: 0.8283\n",
      "Epoch 13/30\n",
      "503/503 [==============================] - 3s 6ms/step - loss: 0.4625 - accuracy: 0.8332\n",
      "Epoch 14/30\n",
      "503/503 [==============================] - 3s 5ms/step - loss: 0.4470 - accuracy: 0.8372\n",
      "Epoch 15/30\n",
      "503/503 [==============================] - 2s 4ms/step - loss: 0.4402 - accuracy: 0.8401\n",
      "Epoch 16/30\n",
      "503/503 [==============================] - 2s 3ms/step - loss: 0.4219 - accuracy: 0.8469\n",
      "Epoch 17/30\n",
      "503/503 [==============================] - 2s 3ms/step - loss: 0.4136 - accuracy: 0.8497\n",
      "Epoch 18/30\n",
      "503/503 [==============================] - 2s 3ms/step - loss: 0.3966 - accuracy: 0.8550\n",
      "Epoch 19/30\n",
      "503/503 [==============================] - 2s 3ms/step - loss: 0.3873 - accuracy: 0.8576\n",
      "Epoch 20/30\n",
      "503/503 [==============================] - 2s 3ms/step - loss: 0.3759 - accuracy: 0.8632\n",
      "Epoch 21/30\n",
      "503/503 [==============================] - 2s 4ms/step - loss: 0.3691 - accuracy: 0.8668\n",
      "Epoch 22/30\n",
      "503/503 [==============================] - 3s 5ms/step - loss: 0.3588 - accuracy: 0.8695\n",
      "Epoch 23/30\n",
      "503/503 [==============================] - 2s 4ms/step - loss: 0.3483 - accuracy: 0.8765\n",
      "Epoch 24/30\n",
      "503/503 [==============================] - 2s 3ms/step - loss: 0.3383 - accuracy: 0.8792\n",
      "Epoch 25/30\n",
      "503/503 [==============================] - 2s 3ms/step - loss: 0.3281 - accuracy: 0.8805\n",
      "Epoch 26/30\n",
      "503/503 [==============================] - 2s 3ms/step - loss: 0.3203 - accuracy: 0.8860\n",
      "Epoch 27/30\n",
      "503/503 [==============================] - 2s 3ms/step - loss: 0.3182 - accuracy: 0.8845\n",
      "Epoch 28/30\n",
      "503/503 [==============================] - 2s 4ms/step - loss: 0.3120 - accuracy: 0.8896\n",
      "Epoch 29/30\n",
      "503/503 [==============================] - 2s 4ms/step - loss: 0.2955 - accuracy: 0.8945\n",
      "Epoch 30/30\n",
      "503/503 [==============================] - 3s 5ms/step - loss: 0.2943 - accuracy: 0.8937\n",
      "503/503 [==============================] - 1s 2ms/step - loss: 0.2591 - accuracy: 0.9082\n",
      "Loss: 0.25911664962768555 Accuracy 0.9082477688789368\n"
     ]
    }
   ],
   "source": [
    "model.fit(X_train,y_train, batch_size=32, epochs=30, verbose=1)\n",
    "acc = model.evaluate(X_train,y_train) #validation_data=(TeX2, TeY2) <---used for a 3-split test\n",
    "print('Loss:', acc[0], 'Accuracy', acc[1])"
   ]
  },
  {
   "cell_type": "code",
   "execution_count": 219,
   "id": "d6a0d740-2447-4463-9a2f-8888fa543544",
   "metadata": {
    "colab": {
     "base_uri": "https://localhost:8080/"
    },
    "id": "d6a0d740-2447-4463-9a2f-8888fa543544",
    "outputId": "0527674b-0448-4e04-e162-9eb20cb03897"
   },
   "outputs": [
    {
     "name": "stdout",
     "output_type": "stream",
     "text": [
      "Epoch 1/10\n",
      "503/503 [==============================] - 2s 3ms/step - loss: 0.2834 - accuracy: 0.8986\n",
      "Epoch 2/10\n",
      "503/503 [==============================] - 2s 3ms/step - loss: 0.2748 - accuracy: 0.9023\n",
      "Epoch 3/10\n",
      "503/503 [==============================] - 2s 3ms/step - loss: 0.2686 - accuracy: 0.9040\n",
      "Epoch 4/10\n",
      "503/503 [==============================] - 2s 3ms/step - loss: 0.2633 - accuracy: 0.9059\n",
      "Epoch 5/10\n",
      "503/503 [==============================] - 2s 3ms/step - loss: 0.2595 - accuracy: 0.9076\n",
      "Epoch 6/10\n",
      "503/503 [==============================] - 2s 5ms/step - loss: 0.2485 - accuracy: 0.9122\n",
      "Epoch 7/10\n",
      "503/503 [==============================] - 3s 5ms/step - loss: 0.2454 - accuracy: 0.9129\n",
      "Epoch 8/10\n",
      "503/503 [==============================] - 2s 3ms/step - loss: 0.2354 - accuracy: 0.9175\n",
      "Epoch 9/10\n",
      "503/503 [==============================] - 2s 3ms/step - loss: 0.2308 - accuracy: 0.9185\n",
      "Epoch 10/10\n",
      "503/503 [==============================] - 2s 3ms/step - loss: 0.2280 - accuracy: 0.9189\n",
      "503/503 [==============================] - 1s 2ms/step - loss: 0.2484 - accuracy: 0.9069\n",
      "Loss: 0.24840550124645233 Accuracy 0.9068782925605774\n"
     ]
    }
   ],
   "source": [
    "model.fit(X_train,y_train,batch_size=32, epochs=10,verbose=1)\n",
    "acc = model.evaluate(X_train,y_train) #validation_data=(TeX2, TeY2) <---used for a 3-split test\n",
    "print('Loss:', acc[0], 'Accuracy', acc[1])"
   ]
  },
  {
   "cell_type": "code",
   "execution_count": 220,
   "id": "8be94d99-9fd4-48e7-998b-c982c95e7621",
   "metadata": {
    "colab": {
     "base_uri": "https://localhost:8080/"
    },
    "id": "8be94d99-9fd4-48e7-998b-c982c95e7621",
    "outputId": "86bd8e2b-c3d3-4d0b-fddb-5da392cf9fc7"
   },
   "outputs": [
    {
     "name": "stdout",
     "output_type": "stream",
     "text": [
      "216/216 [==============================] - 1s 2ms/step\n",
      "Pred        BASEL  BELGRADE  BUDAPEST  DEBILT  DUSSELDORF  HEATHROW  \\\n",
      "True                                                                  \n",
      "BASEL          35         7         1       1           0         1   \n",
      "BELGRADE       34        17         3       0           0         1   \n",
      "BUDAPEST       29        15         1       0           0         0   \n",
      "DEBILT         20         3         1       1           0         0   \n",
      "DUSSELDORF     15        10         0       0           0         0   \n",
      "HEATHROW       21         9         2       0           0         0   \n",
      "KASSEL         16         8         0       0           0         1   \n",
      "LJUBLJANA      16         5         1       0           0         0   \n",
      "MAASTRICHT     16         4         0       1           0         0   \n",
      "MADRID         17        10         2       1           0         0   \n",
      "MUNCHENB       18         8         0       1           1         2   \n",
      "OSLO           11         1         1       0           0         0   \n",
      "SONNBLICK      13         2         1       0           0         1   \n",
      "STOCKHOLM      14         1         0       0           0         1   \n",
      "VALENTIA       15         5         0       0           0         0   \n",
      "\n",
      "Pred        LJUBLJANA  MAASTRICHT  MADRID  \n",
      "True                                       \n",
      "BASEL               0           0       0  \n",
      "BELGRADE            0           0       1  \n",
      "BUDAPEST            0           0       4  \n",
      "DEBILT              0           0       4  \n",
      "DUSSELDORF          0           0       1  \n",
      "HEATHROW            0           0       1  \n",
      "KASSEL              1           0       4  \n",
      "LJUBLJANA           0           0       6  \n",
      "MAASTRICHT          0           0       6  \n",
      "MADRID              0           0       1  \n",
      "MUNCHENB            0           1       2  \n",
      "OSLO                1           0       1  \n",
      "SONNBLICK           1           0       0  \n",
      "STOCKHOLM           0           0       1  \n",
      "VALENTIA            0           0       2  \n"
     ]
    }
   ],
   "source": [
    "pred = model.predict(X_test)\n",
    "#pred_y = pred.argmax(axis=-1)\n",
    "\n",
    "# Evaluate\n",
    "print(confusion_matrix(y_test_origshape, pred))#model.predict(TeX2)))"
   ]
  },
  {
   "cell_type": "markdown",
   "id": "7df50dc8-0039-4ebb-9312-05a8956c1076",
   "metadata": {
    "id": "7df50dc8-0039-4ebb-9312-05a8956c1076"
   },
   "source": [
    "# RNN"
   ]
  },
  {
   "cell_type": "code",
   "execution_count": 221,
   "id": "4cfc7a03-2a5f-4d3d-ad7c-9dd978c8d437",
   "metadata": {
    "id": "4cfc7a03-2a5f-4d3d-ad7c-9dd978c8d437",
    "jp-MarkdownHeadingCollapsed": true
   },
   "outputs": [],
   "source": [
    "# locations = list({x.split(\"_\")[0] for x in df_scaled.columns if x not in [\"MONTH\", \"DATE\"]})\n",
    "locations = [\"BASEL\", \"BELGRADE\", \"BUDAPEST\", \"DEBILT\",\n",
    "             \"DUSSELDORF\", \"HEATHROW\", \"KASSEL\", \"LJUBLJANA\",\n",
    "             \"MAASTRICHT\", \"MADRID\", \"MUNCHENB\", \"OSLO\",\n",
    "             \"SONNBLICK\", \"STOCKHOLM\", \"VALENTIA\"]"
   ]
  },
  {
   "cell_type": "code",
   "execution_count": 222,
   "id": "660cbdfb-4664-498f-b073-1b4775217869",
   "metadata": {
    "id": "660cbdfb-4664-498f-b073-1b4775217869"
   },
   "outputs": [],
   "source": [
    "# from tensorflow.keras.layers import SimpleRNN\n",
    "\n",
    "# model = Sequential()\n",
    "# model.add(SimpleRNN(64, input_shape=(15, 9), activation='relu'))\n",
    "# model.add(Dense(15, activation='sigmoid'))\n",
    "# model.compile(loss='binary_crossentropy', optimizer='adam', metrics=[keras.metrics.TruePositives(name='tp'),\n",
    "#         keras.metrics.FalsePositives(name='fp'),\n",
    "#         keras.metrics.TrueNegatives(name='tn'),\n",
    "#         keras.metrics.FalseNegatives(name='fn'),\n",
    "#         keras.metrics.BinaryAccuracy(name='accuracy'),\n",
    "#         keras.metrics.Precision(name='precision'),\n",
    "#         keras.metrics.Recall(name='recall'),\n",
    "#         keras.metrics.AUC(name='auc')])"
   ]
  },
  {
   "cell_type": "code",
   "execution_count": 223,
   "id": "wHcuES6eM-Bc",
   "metadata": {
    "id": "wHcuES6eM-Bc"
   },
   "outputs": [],
   "source": [
    "import tensorflow as tf\n",
    "from tensorflow.keras.models import Sequential\n",
    "from tensorflow.keras.layers import SimpleRNN, Dense\n",
    "\n",
    "model = Sequential()\n",
    "model.add(SimpleRNN(64, input_shape=(15, 9), activation='relu'))\n",
    "model.add(Dense(15, activation='sigmoid'))\n",
    "model.compile(\n",
    "    loss='binary_crossentropy',\n",
    "    optimizer='adam',\n",
    "    metrics=[\n",
    "        tf.keras.metrics.TruePositives(name='tp'),\n",
    "        tf.keras.metrics.FalsePositives(name='fp'),\n",
    "        tf.keras.metrics.TrueNegatives(name='tn'),\n",
    "        tf.keras.metrics.FalseNegatives(name='fn'),\n",
    "        tf.keras.metrics.BinaryAccuracy(name='accuracy'),\n",
    "        tf.keras.metrics.Precision(name='precision'),\n",
    "        tf.keras.metrics.Recall(name='recall'),\n",
    "        tf.keras.metrics.AUC(name='auc')\n",
    "    ]\n",
    ")\n"
   ]
  },
  {
   "cell_type": "markdown",
   "id": "e18d21e8-a199-496e-be67-dd7f5ae014b1",
   "metadata": {
    "id": "e18d21e8-a199-496e-be67-dd7f5ae014b1"
   },
   "source": [
    "## Reload and Resplit Data for the Next Model"
   ]
  },
  {
   "cell_type": "code",
   "execution_count": 224,
   "id": "c25544b5-ca39-4b1f-aeed-edc85a7bee65",
   "metadata": {
    "colab": {
     "base_uri": "https://localhost:8080/"
    },
    "id": "c25544b5-ca39-4b1f-aeed-edc85a7bee65",
    "outputId": "3eeed9f9-89c2-4b32-c814-c4c45de0aa47"
   },
   "outputs": [
    {
     "name": "stdout",
     "output_type": "stream",
     "text": [
      "(22950, 15, 9)\n",
      "(22950, 15)\n"
     ]
    }
   ],
   "source": [
    "X_full = pd.read_csv((\"weather_prediction_imputed.csv\"), index_col = False)\n",
    "X_full.drop(columns=[\"YEAR\", \"MONTH\", \"DAY\"], inplace=True)\n",
    "X_full = X_full.to_numpy()\n",
    "X_full = X_full.reshape(-1,15,9)\n",
    "print(X_full.shape)\n",
    "\n",
    "y_full = pd.read_csv((\"Weather_Prediction_Pleasant_Weather.csv\"), index_col=False)\n",
    "y_full.drop(columns=[\"YEAR\", \"MONTH\", \"DAY\"], inplace=True)\n",
    "y_full = y_full.to_numpy()\n",
    "print(y_full.shape)"
   ]
  },
  {
   "cell_type": "code",
   "execution_count": 225,
   "id": "ecce4dc3-c1e3-4729-836b-6fac4c4a1a4a",
   "metadata": {
    "colab": {
     "base_uri": "https://localhost:8080/"
    },
    "id": "ecce4dc3-c1e3-4729-836b-6fac4c4a1a4a",
    "outputId": "f7a8a84a-da4f-485d-a91a-e7a3402d8084"
   },
   "outputs": [
    {
     "name": "stdout",
     "output_type": "stream",
     "text": [
      "(16065, 15, 9) (6885, 15, 9)\n",
      "(16065, 15) (6885, 15)\n"
     ]
    }
   ],
   "source": [
    "X_train, X_test, y_train, y_test = train_test_split(X_full, y_full, test_size=0.3, random_state=42)\n",
    "print(X_train.shape, X_test.shape)\n",
    "print(y_train.shape, y_test.shape)"
   ]
  },
  {
   "cell_type": "code",
   "execution_count": 226,
   "id": "ee98709f-f88f-4391-b54c-480a364bb584",
   "metadata": {
    "colab": {
     "base_uri": "https://localhost:8080/"
    },
    "id": "ee98709f-f88f-4391-b54c-480a364bb584",
    "outputId": "a3bdbd3c-f7d4-4129-9966-e2a0e2294beb"
   },
   "outputs": [
    {
     "name": "stdout",
     "output_type": "stream",
     "text": [
      "Epoch 1/43\n",
      "503/503 [==============================] - 7s 10ms/step - loss: 0.3053 - tp: 33659.0000 - fp: 15795.0000 - tn: 173110.0000 - fn: 18411.0000 - accuracy: 0.8581 - precision: 0.6806 - recall: 0.6464 - auc: 0.9130\n",
      "Epoch 2/43\n",
      "503/503 [==============================] - 3s 6ms/step - loss: 0.2199 - tp: 39347.0000 - fp: 11548.0000 - tn: 177357.0000 - fn: 12723.0000 - accuracy: 0.8993 - precision: 0.7731 - recall: 0.7557 - auc: 0.9550\n",
      "Epoch 3/43\n",
      "503/503 [==============================] - 3s 6ms/step - loss: 0.2042 - tp: 40594.0000 - fp: 11019.0000 - tn: 177886.0000 - fn: 11476.0000 - accuracy: 0.9067 - precision: 0.7865 - recall: 0.7796 - auc: 0.9614\n",
      "Epoch 4/43\n",
      "503/503 [==============================] - 3s 6ms/step - loss: 0.1908 - tp: 41653.0000 - fp: 10320.0000 - tn: 178585.0000 - fn: 10417.0000 - accuracy: 0.9139 - precision: 0.8014 - recall: 0.7999 - auc: 0.9665\n",
      "Epoch 5/43\n",
      "503/503 [==============================] - 5s 10ms/step - loss: 0.1807 - tp: 42360.0000 - fp: 9745.0000 - tn: 179160.0000 - fn: 9710.0000 - accuracy: 0.9193 - precision: 0.8130 - recall: 0.8135 - auc: 0.9701\n",
      "Epoch 6/43\n",
      "503/503 [==============================] - 3s 6ms/step - loss: 0.1731 - tp: 42927.0000 - fp: 9395.0000 - tn: 179510.0000 - fn: 9143.0000 - accuracy: 0.9231 - precision: 0.8204 - recall: 0.8244 - auc: 0.9726\n",
      "Epoch 7/43\n",
      "503/503 [==============================] - 3s 6ms/step - loss: 0.1646 - tp: 43507.0000 - fp: 8953.0000 - tn: 179952.0000 - fn: 8563.0000 - accuracy: 0.9273 - precision: 0.8293 - recall: 0.8355 - auc: 0.9753\n",
      "Epoch 8/43\n",
      "503/503 [==============================] - 3s 7ms/step - loss: 0.1549 - tp: 44176.0000 - fp: 8479.0000 - tn: 180426.0000 - fn: 7894.0000 - accuracy: 0.9321 - precision: 0.8390 - recall: 0.8484 - auc: 0.9781\n",
      "Epoch 9/43\n",
      "503/503 [==============================] - 5s 9ms/step - loss: 0.1457 - tp: 44745.0000 - fp: 8039.0000 - tn: 180866.0000 - fn: 7325.0000 - accuracy: 0.9362 - precision: 0.8477 - recall: 0.8593 - auc: 0.9806\n",
      "Epoch 10/43\n",
      "503/503 [==============================] - 3s 6ms/step - loss: 0.1386 - tp: 45293.0000 - fp: 7540.0000 - tn: 181365.0000 - fn: 6777.0000 - accuracy: 0.9406 - precision: 0.8573 - recall: 0.8698 - auc: 0.9824\n",
      "Epoch 11/43\n",
      "503/503 [==============================] - 3s 6ms/step - loss: 0.1286 - tp: 46003.0000 - fp: 7119.0000 - tn: 181786.0000 - fn: 6067.0000 - accuracy: 0.9453 - precision: 0.8660 - recall: 0.8835 - auc: 0.9849\n",
      "Epoch 12/43\n",
      "503/503 [==============================] - 3s 6ms/step - loss: 0.1184 - tp: 46667.0000 - fp: 6646.0000 - tn: 182259.0000 - fn: 5403.0000 - accuracy: 0.9500 - precision: 0.8753 - recall: 0.8962 - auc: 0.9871\n",
      "Epoch 13/43\n",
      "503/503 [==============================] - 6s 11ms/step - loss: 0.1116 - tp: 47054.0000 - fp: 6268.0000 - tn: 182637.0000 - fn: 5016.0000 - accuracy: 0.9532 - precision: 0.8825 - recall: 0.9037 - auc: 0.9884\n",
      "Epoch 14/43\n",
      "503/503 [==============================] - 3s 6ms/step - loss: 0.1029 - tp: 47607.0000 - fp: 5857.0000 - tn: 183048.0000 - fn: 4463.0000 - accuracy: 0.9572 - precision: 0.8904 - recall: 0.9143 - auc: 0.9901\n",
      "Epoch 15/43\n",
      "503/503 [==============================] - 3s 6ms/step - loss: 0.0983 - tp: 47865.0000 - fp: 5517.0000 - tn: 183388.0000 - fn: 4205.0000 - accuracy: 0.9597 - precision: 0.8967 - recall: 0.9192 - auc: 0.9910\n",
      "Epoch 16/43\n",
      "503/503 [==============================] - 4s 7ms/step - loss: 0.0907 - tp: 48412.0000 - fp: 5182.0000 - tn: 183723.0000 - fn: 3658.0000 - accuracy: 0.9633 - precision: 0.9033 - recall: 0.9297 - auc: 0.9922\n",
      "Epoch 17/43\n",
      "503/503 [==============================] - 4s 9ms/step - loss: 0.0854 - tp: 48620.0000 - fp: 4741.0000 - tn: 184164.0000 - fn: 3450.0000 - accuracy: 0.9660 - precision: 0.9112 - recall: 0.9337 - auc: 0.9930\n",
      "Epoch 18/43\n",
      "503/503 [==============================] - 3s 7ms/step - loss: 0.0828 - tp: 48756.0000 - fp: 4737.0000 - tn: 184168.0000 - fn: 3314.0000 - accuracy: 0.9666 - precision: 0.9114 - recall: 0.9364 - auc: 0.9935\n",
      "Epoch 19/43\n",
      "503/503 [==============================] - 6s 11ms/step - loss: 0.0769 - tp: 49037.0000 - fp: 4408.0000 - tn: 184497.0000 - fn: 3033.0000 - accuracy: 0.9691 - precision: 0.9175 - recall: 0.9418 - auc: 0.9943\n",
      "Epoch 20/43\n",
      "503/503 [==============================] - 5s 10ms/step - loss: 0.0749 - tp: 49117.0000 - fp: 4217.0000 - tn: 184688.0000 - fn: 2953.0000 - accuracy: 0.9702 - precision: 0.9209 - recall: 0.9433 - auc: 0.9946\n",
      "Epoch 21/43\n",
      "503/503 [==============================] - 3s 7ms/step - loss: 0.0700 - tp: 49296.0000 - fp: 3928.0000 - tn: 184977.0000 - fn: 2774.0000 - accuracy: 0.9722 - precision: 0.9262 - recall: 0.9467 - auc: 0.9953\n",
      "Epoch 22/43\n",
      "503/503 [==============================] - 3s 6ms/step - loss: 0.0668 - tp: 49513.0000 - fp: 3823.0000 - tn: 185082.0000 - fn: 2557.0000 - accuracy: 0.9735 - precision: 0.9283 - recall: 0.9509 - auc: 0.9956\n",
      "Epoch 23/43\n",
      "503/503 [==============================] - 3s 7ms/step - loss: 0.0636 - tp: 49681.0000 - fp: 3629.0000 - tn: 185276.0000 - fn: 2389.0000 - accuracy: 0.9750 - precision: 0.9319 - recall: 0.9541 - auc: 0.9961\n",
      "Epoch 24/43\n",
      "503/503 [==============================] - 5s 10ms/step - loss: 0.0617 - tp: 49666.0000 - fp: 3395.0000 - tn: 185510.0000 - fn: 2404.0000 - accuracy: 0.9759 - precision: 0.9360 - recall: 0.9538 - auc: 0.9963\n",
      "Epoch 25/43\n",
      "503/503 [==============================] - 3s 6ms/step - loss: 0.0597 - tp: 49770.0000 - fp: 3341.0000 - tn: 185564.0000 - fn: 2300.0000 - accuracy: 0.9766 - precision: 0.9371 - recall: 0.9558 - auc: 0.9965\n",
      "Epoch 26/43\n",
      "503/503 [==============================] - 3s 6ms/step - loss: 0.0559 - tp: 49941.0000 - fp: 3154.0000 - tn: 185751.0000 - fn: 2129.0000 - accuracy: 0.9781 - precision: 0.9406 - recall: 0.9591 - auc: 0.9969\n",
      "Epoch 27/43\n",
      "503/503 [==============================] - 3s 7ms/step - loss: 0.0541 - tp: 50039.0000 - fp: 3054.0000 - tn: 185851.0000 - fn: 2031.0000 - accuracy: 0.9789 - precision: 0.9425 - recall: 0.9610 - auc: 0.9972\n",
      "Epoch 28/43\n",
      "503/503 [==============================] - 5s 10ms/step - loss: 0.0520 - tp: 50130.0000 - fp: 2912.0000 - tn: 185993.0000 - fn: 1940.0000 - accuracy: 0.9799 - precision: 0.9451 - recall: 0.9627 - auc: 0.9974\n",
      "Epoch 29/43\n",
      "503/503 [==============================] - 3s 7ms/step - loss: 0.0497 - tp: 50194.0000 - fp: 2742.0000 - tn: 186163.0000 - fn: 1876.0000 - accuracy: 0.9808 - precision: 0.9482 - recall: 0.9640 - auc: 0.9975\n",
      "Epoch 30/43\n",
      "503/503 [==============================] - 3s 7ms/step - loss: 0.0475 - tp: 50313.0000 - fp: 2646.0000 - tn: 186259.0000 - fn: 1757.0000 - accuracy: 0.9817 - precision: 0.9500 - recall: 0.9663 - auc: 0.9977\n",
      "Epoch 31/43\n",
      "503/503 [==============================] - 3s 7ms/step - loss: 0.0508 - tp: 50144.0000 - fp: 2757.0000 - tn: 186148.0000 - fn: 1926.0000 - accuracy: 0.9806 - precision: 0.9479 - recall: 0.9630 - auc: 0.9974\n",
      "Epoch 32/43\n",
      "503/503 [==============================] - 6s 11ms/step - loss: 0.0456 - tp: 50347.0000 - fp: 2561.0000 - tn: 186344.0000 - fn: 1723.0000 - accuracy: 0.9822 - precision: 0.9516 - recall: 0.9669 - auc: 0.9979\n",
      "Epoch 33/43\n",
      "503/503 [==============================] - 5s 9ms/step - loss: 0.0408 - tp: 50487.0000 - fp: 2307.0000 - tn: 186598.0000 - fn: 1583.0000 - accuracy: 0.9839 - precision: 0.9563 - recall: 0.9696 - auc: 0.9983\n",
      "Epoch 34/43\n",
      "503/503 [==============================] - 4s 7ms/step - loss: 0.0425 - tp: 50441.0000 - fp: 2333.0000 - tn: 186572.0000 - fn: 1629.0000 - accuracy: 0.9836 - precision: 0.9558 - recall: 0.9687 - auc: 0.9981\n",
      "Epoch 35/43\n",
      "503/503 [==============================] - 3s 7ms/step - loss: 0.0485 - tp: 50103.0000 - fp: 2529.0000 - tn: 186376.0000 - fn: 1967.0000 - accuracy: 0.9813 - precision: 0.9519 - recall: 0.9622 - auc: 0.9976\n",
      "Epoch 36/43\n",
      "503/503 [==============================] - 5s 10ms/step - loss: 0.0417 - tp: 50507.0000 - fp: 2289.0000 - tn: 186616.0000 - fn: 1563.0000 - accuracy: 0.9840 - precision: 0.9566 - recall: 0.9700 - auc: 0.9983\n",
      "Epoch 37/43\n",
      "503/503 [==============================] - 3s 7ms/step - loss: 0.0394 - tp: 50569.0000 - fp: 2165.0000 - tn: 186740.0000 - fn: 1501.0000 - accuracy: 0.9848 - precision: 0.9589 - recall: 0.9712 - auc: 0.9984\n",
      "Epoch 38/43\n",
      "503/503 [==============================] - 3s 6ms/step - loss: 0.0406 - tp: 50522.0000 - fp: 2209.0000 - tn: 186696.0000 - fn: 1548.0000 - accuracy: 0.9844 - precision: 0.9581 - recall: 0.9703 - auc: 0.9983\n",
      "Epoch 39/43\n",
      "503/503 [==============================] - 3s 7ms/step - loss: 0.0381 - tp: 50646.0000 - fp: 2042.0000 - tn: 186863.0000 - fn: 1424.0000 - accuracy: 0.9856 - precision: 0.9612 - recall: 0.9727 - auc: 0.9985\n",
      "Epoch 40/43\n",
      "503/503 [==============================] - 5s 10ms/step - loss: 0.0359 - tp: 50677.0000 - fp: 1888.0000 - tn: 187017.0000 - fn: 1393.0000 - accuracy: 0.9864 - precision: 0.9641 - recall: 0.9732 - auc: 0.9987\n",
      "Epoch 41/43\n",
      "503/503 [==============================] - 3s 6ms/step - loss: 0.0359 - tp: 50702.0000 - fp: 1877.0000 - tn: 187028.0000 - fn: 1368.0000 - accuracy: 0.9865 - precision: 0.9643 - recall: 0.9737 - auc: 0.9986\n",
      "Epoch 42/43\n",
      "503/503 [==============================] - 3s 7ms/step - loss: 0.0361 - tp: 50626.0000 - fp: 1879.0000 - tn: 187026.0000 - fn: 1444.0000 - accuracy: 0.9862 - precision: 0.9642 - recall: 0.9723 - auc: 0.9986\n",
      "Epoch 43/43\n",
      "503/503 [==============================] - 5s 10ms/step - loss: 0.0331 - tp: 50745.0000 - fp: 1757.0000 - tn: 187148.0000 - fn: 1325.0000 - accuracy: 0.9872 - precision: 0.9665 - recall: 0.9746 - auc: 0.9988\n"
     ]
    },
    {
     "data": {
      "text/plain": [
       "<keras.src.callbacks.History at 0x7a453b453910>"
      ]
     },
     "execution_count": 226,
     "metadata": {},
     "output_type": "execute_result"
    }
   ],
   "source": [
    "model.fit(X_train, y_train, epochs=43)"
   ]
  },
  {
   "cell_type": "code",
   "execution_count": 227,
   "id": "805f5f29-84cb-4bcf-b810-10bf37960608",
   "metadata": {
    "colab": {
     "base_uri": "https://localhost:8080/"
    },
    "id": "805f5f29-84cb-4bcf-b810-10bf37960608",
    "outputId": "a3a8d032-f03e-4fbf-8b1b-3d7afe446da4"
   },
   "outputs": [
    {
     "name": "stdout",
     "output_type": "stream",
     "text": [
      "216/216 [==============================] - 1s 4ms/step\n"
     ]
    }
   ],
   "source": [
    "scores = model.predict(X_test)"
   ]
  },
  {
   "cell_type": "code",
   "execution_count": 228,
   "id": "6f4097d5-2ff9-4d51-9e91-f21d13b02f46",
   "metadata": {
    "id": "6f4097d5-2ff9-4d51-9e91-f21d13b02f46"
   },
   "outputs": [],
   "source": [
    "lst = []\n",
    "for n in range(len(scores)):\n",
    "    lst.append([int(round(elem, 0)) for elem in list(scores[n])])"
   ]
  },
  {
   "cell_type": "code",
   "execution_count": 229,
   "id": "6d819942-94f3-4e5e-bfe5-6d3f07d3ffd2",
   "metadata": {
    "id": "6d819942-94f3-4e5e-bfe5-6d3f07d3ffd2"
   },
   "outputs": [],
   "source": [
    "lst = np.array(lst)\n",
    "y_prediction = pd.DataFrame({'BASEL': lst[:, 0], 'BELGRADE': lst[:, 1],\n",
    "                             'BUDAPEST': lst[:, 2],'DEBILT': lst[:, 3],\n",
    "                             'DUSSELDORF': lst[:, 4],'HEATHROW': lst[:, 5],\n",
    "                             'KASSEL': lst[:, 6],'LJUBLJANA': lst[:, 7],\n",
    "                             'MAASTRICHT': lst[:, 8],'MADRID': lst[:, 9],\n",
    "                             'MUNCHENB': lst[:, 10],'OSLO': lst[:, 11],\n",
    "                             'SONNBLICK': lst[:, 12],'STOCKHOLM': lst[:, 13],\n",
    "                             'VALENTIA': lst[:, 14]})\n",
    "\n",
    "y_test = np.array(y_test)\n",
    "y_testframe = pd.DataFrame({'BASEL': y_test[:, 0], 'BELGRADE': y_test[:, 1],\n",
    "                            'BUDAPEST': y_test[:, 2],'DEBILT': y_test[:, 3],\n",
    "                            'DUSSELDORF': y_test[:, 4],'HEATHROW': y_test[:, 5],\n",
    "                            'KASSEL': y_test[:, 6],'LJUBLJANA': y_test[:, 7],\n",
    "                            'MAASTRICHT': y_test[:, 8],'MADRID': y_test[:, 9],\n",
    "                            'MUNCHENB': y_test[:, 10],'OSLO': y_test[:, 11],\n",
    "                            'SONNBLICK': y_test[:, 12],'STOCKHOLM': y_test[:, 13],\n",
    "                            'VALENTIA': y_test[:, 14]})"
   ]
  },
  {
   "cell_type": "code",
   "execution_count": 230,
   "id": "77dcee98-99eb-471d-9042-3465ed6ad86b",
   "metadata": {
    "colab": {
     "base_uri": "https://localhost:8080/",
     "height": 206
    },
    "id": "77dcee98-99eb-471d-9042-3465ed6ad86b",
    "outputId": "8aed314f-3713-4e96-c376-5257867c011b"
   },
   "outputs": [
    {
     "data": {
      "application/vnd.google.colaboratory.intrinsic+json": {
       "summary": "{\n  \"name\": \"y_testframe\",\n  \"rows\": 6885,\n  \"fields\": [\n    {\n      \"column\": \"BASEL\",\n      \"properties\": {\n        \"dtype\": \"number\",\n        \"std\": 0,\n        \"min\": 0,\n        \"max\": 1,\n        \"num_unique_values\": 2,\n        \"samples\": [\n          0,\n          1\n        ],\n        \"semantic_type\": \"\",\n        \"description\": \"\"\n      }\n    },\n    {\n      \"column\": \"BELGRADE\",\n      \"properties\": {\n        \"dtype\": \"number\",\n        \"std\": 0,\n        \"min\": 0,\n        \"max\": 1,\n        \"num_unique_values\": 2,\n        \"samples\": [\n          0,\n          1\n        ],\n        \"semantic_type\": \"\",\n        \"description\": \"\"\n      }\n    },\n    {\n      \"column\": \"BUDAPEST\",\n      \"properties\": {\n        \"dtype\": \"number\",\n        \"std\": 0,\n        \"min\": 0,\n        \"max\": 1,\n        \"num_unique_values\": 2,\n        \"samples\": [\n          1,\n          0\n        ],\n        \"semantic_type\": \"\",\n        \"description\": \"\"\n      }\n    },\n    {\n      \"column\": \"DEBILT\",\n      \"properties\": {\n        \"dtype\": \"number\",\n        \"std\": 0,\n        \"min\": 0,\n        \"max\": 1,\n        \"num_unique_values\": 2,\n        \"samples\": [\n          1,\n          0\n        ],\n        \"semantic_type\": \"\",\n        \"description\": \"\"\n      }\n    },\n    {\n      \"column\": \"DUSSELDORF\",\n      \"properties\": {\n        \"dtype\": \"number\",\n        \"std\": 0,\n        \"min\": 0,\n        \"max\": 1,\n        \"num_unique_values\": 2,\n        \"samples\": [\n          1,\n          0\n        ],\n        \"semantic_type\": \"\",\n        \"description\": \"\"\n      }\n    },\n    {\n      \"column\": \"HEATHROW\",\n      \"properties\": {\n        \"dtype\": \"number\",\n        \"std\": 0,\n        \"min\": 0,\n        \"max\": 1,\n        \"num_unique_values\": 2,\n        \"samples\": [\n          0,\n          1\n        ],\n        \"semantic_type\": \"\",\n        \"description\": \"\"\n      }\n    },\n    {\n      \"column\": \"KASSEL\",\n      \"properties\": {\n        \"dtype\": \"number\",\n        \"std\": 0,\n        \"min\": 0,\n        \"max\": 1,\n        \"num_unique_values\": 2,\n        \"samples\": [\n          1,\n          0\n        ],\n        \"semantic_type\": \"\",\n        \"description\": \"\"\n      }\n    },\n    {\n      \"column\": \"LJUBLJANA\",\n      \"properties\": {\n        \"dtype\": \"number\",\n        \"std\": 0,\n        \"min\": 0,\n        \"max\": 1,\n        \"num_unique_values\": 2,\n        \"samples\": [\n          1,\n          0\n        ],\n        \"semantic_type\": \"\",\n        \"description\": \"\"\n      }\n    },\n    {\n      \"column\": \"MAASTRICHT\",\n      \"properties\": {\n        \"dtype\": \"number\",\n        \"std\": 0,\n        \"min\": 0,\n        \"max\": 1,\n        \"num_unique_values\": 2,\n        \"samples\": [\n          1,\n          0\n        ],\n        \"semantic_type\": \"\",\n        \"description\": \"\"\n      }\n    },\n    {\n      \"column\": \"MADRID\",\n      \"properties\": {\n        \"dtype\": \"number\",\n        \"std\": 0,\n        \"min\": 0,\n        \"max\": 1,\n        \"num_unique_values\": 2,\n        \"samples\": [\n          0,\n          1\n        ],\n        \"semantic_type\": \"\",\n        \"description\": \"\"\n      }\n    },\n    {\n      \"column\": \"MUNCHENB\",\n      \"properties\": {\n        \"dtype\": \"number\",\n        \"std\": 0,\n        \"min\": 0,\n        \"max\": 1,\n        \"num_unique_values\": 2,\n        \"samples\": [\n          1,\n          0\n        ],\n        \"semantic_type\": \"\",\n        \"description\": \"\"\n      }\n    },\n    {\n      \"column\": \"OSLO\",\n      \"properties\": {\n        \"dtype\": \"number\",\n        \"std\": 0,\n        \"min\": 0,\n        \"max\": 1,\n        \"num_unique_values\": 2,\n        \"samples\": [\n          1,\n          0\n        ],\n        \"semantic_type\": \"\",\n        \"description\": \"\"\n      }\n    },\n    {\n      \"column\": \"SONNBLICK\",\n      \"properties\": {\n        \"dtype\": \"number\",\n        \"std\": 0,\n        \"min\": 0,\n        \"max\": 0,\n        \"num_unique_values\": 1,\n        \"samples\": [\n          0\n        ],\n        \"semantic_type\": \"\",\n        \"description\": \"\"\n      }\n    },\n    {\n      \"column\": \"STOCKHOLM\",\n      \"properties\": {\n        \"dtype\": \"number\",\n        \"std\": 0,\n        \"min\": 0,\n        \"max\": 1,\n        \"num_unique_values\": 2,\n        \"samples\": [\n          1\n        ],\n        \"semantic_type\": \"\",\n        \"description\": \"\"\n      }\n    },\n    {\n      \"column\": \"VALENTIA\",\n      \"properties\": {\n        \"dtype\": \"number\",\n        \"std\": 0,\n        \"min\": 0,\n        \"max\": 1,\n        \"num_unique_values\": 2,\n        \"samples\": [\n          1\n        ],\n        \"semantic_type\": \"\",\n        \"description\": \"\"\n      }\n    }\n  ]\n}",
       "type": "dataframe",
       "variable_name": "y_testframe"
      },
      "text/html": [
       "\n",
       "  <div id=\"df-1614ee6b-30c8-4d23-a810-71c774e9c45f\" class=\"colab-df-container\">\n",
       "    <div>\n",
       "<style scoped>\n",
       "    .dataframe tbody tr th:only-of-type {\n",
       "        vertical-align: middle;\n",
       "    }\n",
       "\n",
       "    .dataframe tbody tr th {\n",
       "        vertical-align: top;\n",
       "    }\n",
       "\n",
       "    .dataframe thead th {\n",
       "        text-align: right;\n",
       "    }\n",
       "</style>\n",
       "<table border=\"1\" class=\"dataframe\">\n",
       "  <thead>\n",
       "    <tr style=\"text-align: right;\">\n",
       "      <th></th>\n",
       "      <th>BASEL</th>\n",
       "      <th>BELGRADE</th>\n",
       "      <th>BUDAPEST</th>\n",
       "      <th>DEBILT</th>\n",
       "      <th>DUSSELDORF</th>\n",
       "      <th>HEATHROW</th>\n",
       "      <th>KASSEL</th>\n",
       "      <th>LJUBLJANA</th>\n",
       "      <th>MAASTRICHT</th>\n",
       "      <th>MADRID</th>\n",
       "      <th>MUNCHENB</th>\n",
       "      <th>OSLO</th>\n",
       "      <th>SONNBLICK</th>\n",
       "      <th>STOCKHOLM</th>\n",
       "      <th>VALENTIA</th>\n",
       "    </tr>\n",
       "  </thead>\n",
       "  <tbody>\n",
       "    <tr>\n",
       "      <th>0</th>\n",
       "      <td>1</td>\n",
       "      <td>1</td>\n",
       "      <td>0</td>\n",
       "      <td>0</td>\n",
       "      <td>0</td>\n",
       "      <td>1</td>\n",
       "      <td>0</td>\n",
       "      <td>0</td>\n",
       "      <td>0</td>\n",
       "      <td>1</td>\n",
       "      <td>0</td>\n",
       "      <td>0</td>\n",
       "      <td>0</td>\n",
       "      <td>0</td>\n",
       "      <td>0</td>\n",
       "    </tr>\n",
       "    <tr>\n",
       "      <th>1</th>\n",
       "      <td>0</td>\n",
       "      <td>0</td>\n",
       "      <td>0</td>\n",
       "      <td>0</td>\n",
       "      <td>0</td>\n",
       "      <td>0</td>\n",
       "      <td>0</td>\n",
       "      <td>0</td>\n",
       "      <td>0</td>\n",
       "      <td>0</td>\n",
       "      <td>0</td>\n",
       "      <td>0</td>\n",
       "      <td>0</td>\n",
       "      <td>0</td>\n",
       "      <td>0</td>\n",
       "    </tr>\n",
       "    <tr>\n",
       "      <th>2</th>\n",
       "      <td>1</td>\n",
       "      <td>1</td>\n",
       "      <td>1</td>\n",
       "      <td>0</td>\n",
       "      <td>0</td>\n",
       "      <td>1</td>\n",
       "      <td>0</td>\n",
       "      <td>0</td>\n",
       "      <td>0</td>\n",
       "      <td>1</td>\n",
       "      <td>1</td>\n",
       "      <td>0</td>\n",
       "      <td>0</td>\n",
       "      <td>0</td>\n",
       "      <td>0</td>\n",
       "    </tr>\n",
       "    <tr>\n",
       "      <th>3</th>\n",
       "      <td>1</td>\n",
       "      <td>0</td>\n",
       "      <td>0</td>\n",
       "      <td>0</td>\n",
       "      <td>0</td>\n",
       "      <td>0</td>\n",
       "      <td>0</td>\n",
       "      <td>1</td>\n",
       "      <td>0</td>\n",
       "      <td>1</td>\n",
       "      <td>0</td>\n",
       "      <td>0</td>\n",
       "      <td>0</td>\n",
       "      <td>0</td>\n",
       "      <td>0</td>\n",
       "    </tr>\n",
       "    <tr>\n",
       "      <th>4</th>\n",
       "      <td>0</td>\n",
       "      <td>0</td>\n",
       "      <td>0</td>\n",
       "      <td>0</td>\n",
       "      <td>0</td>\n",
       "      <td>0</td>\n",
       "      <td>0</td>\n",
       "      <td>0</td>\n",
       "      <td>0</td>\n",
       "      <td>0</td>\n",
       "      <td>0</td>\n",
       "      <td>0</td>\n",
       "      <td>0</td>\n",
       "      <td>0</td>\n",
       "      <td>0</td>\n",
       "    </tr>\n",
       "  </tbody>\n",
       "</table>\n",
       "</div>\n",
       "    <div class=\"colab-df-buttons\">\n",
       "\n",
       "  <div class=\"colab-df-container\">\n",
       "    <button class=\"colab-df-convert\" onclick=\"convertToInteractive('df-1614ee6b-30c8-4d23-a810-71c774e9c45f')\"\n",
       "            title=\"Convert this dataframe to an interactive table.\"\n",
       "            style=\"display:none;\">\n",
       "\n",
       "  <svg xmlns=\"http://www.w3.org/2000/svg\" height=\"24px\" viewBox=\"0 -960 960 960\">\n",
       "    <path d=\"M120-120v-720h720v720H120Zm60-500h600v-160H180v160Zm220 220h160v-160H400v160Zm0 220h160v-160H400v160ZM180-400h160v-160H180v160Zm440 0h160v-160H620v160ZM180-180h160v-160H180v160Zm440 0h160v-160H620v160Z\"/>\n",
       "  </svg>\n",
       "    </button>\n",
       "\n",
       "  <style>\n",
       "    .colab-df-container {\n",
       "      display:flex;\n",
       "      gap: 12px;\n",
       "    }\n",
       "\n",
       "    .colab-df-convert {\n",
       "      background-color: #E8F0FE;\n",
       "      border: none;\n",
       "      border-radius: 50%;\n",
       "      cursor: pointer;\n",
       "      display: none;\n",
       "      fill: #1967D2;\n",
       "      height: 32px;\n",
       "      padding: 0 0 0 0;\n",
       "      width: 32px;\n",
       "    }\n",
       "\n",
       "    .colab-df-convert:hover {\n",
       "      background-color: #E2EBFA;\n",
       "      box-shadow: 0px 1px 2px rgba(60, 64, 67, 0.3), 0px 1px 3px 1px rgba(60, 64, 67, 0.15);\n",
       "      fill: #174EA6;\n",
       "    }\n",
       "\n",
       "    .colab-df-buttons div {\n",
       "      margin-bottom: 4px;\n",
       "    }\n",
       "\n",
       "    [theme=dark] .colab-df-convert {\n",
       "      background-color: #3B4455;\n",
       "      fill: #D2E3FC;\n",
       "    }\n",
       "\n",
       "    [theme=dark] .colab-df-convert:hover {\n",
       "      background-color: #434B5C;\n",
       "      box-shadow: 0px 1px 3px 1px rgba(0, 0, 0, 0.15);\n",
       "      filter: drop-shadow(0px 1px 2px rgba(0, 0, 0, 0.3));\n",
       "      fill: #FFFFFF;\n",
       "    }\n",
       "  </style>\n",
       "\n",
       "    <script>\n",
       "      const buttonEl =\n",
       "        document.querySelector('#df-1614ee6b-30c8-4d23-a810-71c774e9c45f button.colab-df-convert');\n",
       "      buttonEl.style.display =\n",
       "        google.colab.kernel.accessAllowed ? 'block' : 'none';\n",
       "\n",
       "      async function convertToInteractive(key) {\n",
       "        const element = document.querySelector('#df-1614ee6b-30c8-4d23-a810-71c774e9c45f');\n",
       "        const dataTable =\n",
       "          await google.colab.kernel.invokeFunction('convertToInteractive',\n",
       "                                                    [key], {});\n",
       "        if (!dataTable) return;\n",
       "\n",
       "        const docLinkHtml = 'Like what you see? Visit the ' +\n",
       "          '<a target=\"_blank\" href=https://colab.research.google.com/notebooks/data_table.ipynb>data table notebook</a>'\n",
       "          + ' to learn more about interactive tables.';\n",
       "        element.innerHTML = '';\n",
       "        dataTable['output_type'] = 'display_data';\n",
       "        await google.colab.output.renderOutput(dataTable, element);\n",
       "        const docLink = document.createElement('div');\n",
       "        docLink.innerHTML = docLinkHtml;\n",
       "        element.appendChild(docLink);\n",
       "      }\n",
       "    </script>\n",
       "  </div>\n",
       "\n",
       "\n",
       "<div id=\"df-97722d09-4177-4145-a3fa-b5871a873d9d\">\n",
       "  <button class=\"colab-df-quickchart\" onclick=\"quickchart('df-97722d09-4177-4145-a3fa-b5871a873d9d')\"\n",
       "            title=\"Suggest charts\"\n",
       "            style=\"display:none;\">\n",
       "\n",
       "<svg xmlns=\"http://www.w3.org/2000/svg\" height=\"24px\"viewBox=\"0 0 24 24\"\n",
       "     width=\"24px\">\n",
       "    <g>\n",
       "        <path d=\"M19 3H5c-1.1 0-2 .9-2 2v14c0 1.1.9 2 2 2h14c1.1 0 2-.9 2-2V5c0-1.1-.9-2-2-2zM9 17H7v-7h2v7zm4 0h-2V7h2v10zm4 0h-2v-4h2v4z\"/>\n",
       "    </g>\n",
       "</svg>\n",
       "  </button>\n",
       "\n",
       "<style>\n",
       "  .colab-df-quickchart {\n",
       "      --bg-color: #E8F0FE;\n",
       "      --fill-color: #1967D2;\n",
       "      --hover-bg-color: #E2EBFA;\n",
       "      --hover-fill-color: #174EA6;\n",
       "      --disabled-fill-color: #AAA;\n",
       "      --disabled-bg-color: #DDD;\n",
       "  }\n",
       "\n",
       "  [theme=dark] .colab-df-quickchart {\n",
       "      --bg-color: #3B4455;\n",
       "      --fill-color: #D2E3FC;\n",
       "      --hover-bg-color: #434B5C;\n",
       "      --hover-fill-color: #FFFFFF;\n",
       "      --disabled-bg-color: #3B4455;\n",
       "      --disabled-fill-color: #666;\n",
       "  }\n",
       "\n",
       "  .colab-df-quickchart {\n",
       "    background-color: var(--bg-color);\n",
       "    border: none;\n",
       "    border-radius: 50%;\n",
       "    cursor: pointer;\n",
       "    display: none;\n",
       "    fill: var(--fill-color);\n",
       "    height: 32px;\n",
       "    padding: 0;\n",
       "    width: 32px;\n",
       "  }\n",
       "\n",
       "  .colab-df-quickchart:hover {\n",
       "    background-color: var(--hover-bg-color);\n",
       "    box-shadow: 0 1px 2px rgba(60, 64, 67, 0.3), 0 1px 3px 1px rgba(60, 64, 67, 0.15);\n",
       "    fill: var(--button-hover-fill-color);\n",
       "  }\n",
       "\n",
       "  .colab-df-quickchart-complete:disabled,\n",
       "  .colab-df-quickchart-complete:disabled:hover {\n",
       "    background-color: var(--disabled-bg-color);\n",
       "    fill: var(--disabled-fill-color);\n",
       "    box-shadow: none;\n",
       "  }\n",
       "\n",
       "  .colab-df-spinner {\n",
       "    border: 2px solid var(--fill-color);\n",
       "    border-color: transparent;\n",
       "    border-bottom-color: var(--fill-color);\n",
       "    animation:\n",
       "      spin 1s steps(1) infinite;\n",
       "  }\n",
       "\n",
       "  @keyframes spin {\n",
       "    0% {\n",
       "      border-color: transparent;\n",
       "      border-bottom-color: var(--fill-color);\n",
       "      border-left-color: var(--fill-color);\n",
       "    }\n",
       "    20% {\n",
       "      border-color: transparent;\n",
       "      border-left-color: var(--fill-color);\n",
       "      border-top-color: var(--fill-color);\n",
       "    }\n",
       "    30% {\n",
       "      border-color: transparent;\n",
       "      border-left-color: var(--fill-color);\n",
       "      border-top-color: var(--fill-color);\n",
       "      border-right-color: var(--fill-color);\n",
       "    }\n",
       "    40% {\n",
       "      border-color: transparent;\n",
       "      border-right-color: var(--fill-color);\n",
       "      border-top-color: var(--fill-color);\n",
       "    }\n",
       "    60% {\n",
       "      border-color: transparent;\n",
       "      border-right-color: var(--fill-color);\n",
       "    }\n",
       "    80% {\n",
       "      border-color: transparent;\n",
       "      border-right-color: var(--fill-color);\n",
       "      border-bottom-color: var(--fill-color);\n",
       "    }\n",
       "    90% {\n",
       "      border-color: transparent;\n",
       "      border-bottom-color: var(--fill-color);\n",
       "    }\n",
       "  }\n",
       "</style>\n",
       "\n",
       "  <script>\n",
       "    async function quickchart(key) {\n",
       "      const quickchartButtonEl =\n",
       "        document.querySelector('#' + key + ' button');\n",
       "      quickchartButtonEl.disabled = true;  // To prevent multiple clicks.\n",
       "      quickchartButtonEl.classList.add('colab-df-spinner');\n",
       "      try {\n",
       "        const charts = await google.colab.kernel.invokeFunction(\n",
       "            'suggestCharts', [key], {});\n",
       "      } catch (error) {\n",
       "        console.error('Error during call to suggestCharts:', error);\n",
       "      }\n",
       "      quickchartButtonEl.classList.remove('colab-df-spinner');\n",
       "      quickchartButtonEl.classList.add('colab-df-quickchart-complete');\n",
       "    }\n",
       "    (() => {\n",
       "      let quickchartButtonEl =\n",
       "        document.querySelector('#df-97722d09-4177-4145-a3fa-b5871a873d9d button');\n",
       "      quickchartButtonEl.style.display =\n",
       "        google.colab.kernel.accessAllowed ? 'block' : 'none';\n",
       "    })();\n",
       "  </script>\n",
       "</div>\n",
       "\n",
       "    </div>\n",
       "  </div>\n"
      ],
      "text/plain": [
       "   BASEL  BELGRADE  BUDAPEST  DEBILT  DUSSELDORF  HEATHROW  KASSEL  LJUBLJANA  \\\n",
       "0      1         1         0       0           0         1       0          0   \n",
       "1      0         0         0       0           0         0       0          0   \n",
       "2      1         1         1       0           0         1       0          0   \n",
       "3      1         0         0       0           0         0       0          1   \n",
       "4      0         0         0       0           0         0       0          0   \n",
       "\n",
       "   MAASTRICHT  MADRID  MUNCHENB  OSLO  SONNBLICK  STOCKHOLM  VALENTIA  \n",
       "0           0       1         0     0          0          0         0  \n",
       "1           0       0         0     0          0          0         0  \n",
       "2           0       1         1     0          0          0         0  \n",
       "3           0       1         0     0          0          0         0  \n",
       "4           0       0         0     0          0          0         0  "
      ]
     },
     "execution_count": 230,
     "metadata": {},
     "output_type": "execute_result"
    }
   ],
   "source": [
    "y_testframe.head()"
   ]
  },
  {
   "cell_type": "code",
   "execution_count": 231,
   "id": "b31b9388-a2c0-4715-87b6-b4f5df618040",
   "metadata": {
    "colab": {
     "base_uri": "https://localhost:8080/",
     "height": 206
    },
    "id": "b31b9388-a2c0-4715-87b6-b4f5df618040",
    "outputId": "c1782990-107c-4bf7-8387-45a95efe49e1"
   },
   "outputs": [
    {
     "data": {
      "application/vnd.google.colaboratory.intrinsic+json": {
       "summary": "{\n  \"name\": \"y_prediction\",\n  \"rows\": 6885,\n  \"fields\": [\n    {\n      \"column\": \"BASEL\",\n      \"properties\": {\n        \"dtype\": \"number\",\n        \"std\": 0,\n        \"min\": 0,\n        \"max\": 1,\n        \"num_unique_values\": 2,\n        \"samples\": [\n          0,\n          1\n        ],\n        \"semantic_type\": \"\",\n        \"description\": \"\"\n      }\n    },\n    {\n      \"column\": \"BELGRADE\",\n      \"properties\": {\n        \"dtype\": \"number\",\n        \"std\": 0,\n        \"min\": 0,\n        \"max\": 1,\n        \"num_unique_values\": 2,\n        \"samples\": [\n          0,\n          1\n        ],\n        \"semantic_type\": \"\",\n        \"description\": \"\"\n      }\n    },\n    {\n      \"column\": \"BUDAPEST\",\n      \"properties\": {\n        \"dtype\": \"number\",\n        \"std\": 0,\n        \"min\": 0,\n        \"max\": 1,\n        \"num_unique_values\": 2,\n        \"samples\": [\n          1,\n          0\n        ],\n        \"semantic_type\": \"\",\n        \"description\": \"\"\n      }\n    },\n    {\n      \"column\": \"DEBILT\",\n      \"properties\": {\n        \"dtype\": \"number\",\n        \"std\": 0,\n        \"min\": 0,\n        \"max\": 1,\n        \"num_unique_values\": 2,\n        \"samples\": [\n          1,\n          0\n        ],\n        \"semantic_type\": \"\",\n        \"description\": \"\"\n      }\n    },\n    {\n      \"column\": \"DUSSELDORF\",\n      \"properties\": {\n        \"dtype\": \"number\",\n        \"std\": 0,\n        \"min\": 0,\n        \"max\": 1,\n        \"num_unique_values\": 2,\n        \"samples\": [\n          1,\n          0\n        ],\n        \"semantic_type\": \"\",\n        \"description\": \"\"\n      }\n    },\n    {\n      \"column\": \"HEATHROW\",\n      \"properties\": {\n        \"dtype\": \"number\",\n        \"std\": 0,\n        \"min\": 0,\n        \"max\": 1,\n        \"num_unique_values\": 2,\n        \"samples\": [\n          0,\n          1\n        ],\n        \"semantic_type\": \"\",\n        \"description\": \"\"\n      }\n    },\n    {\n      \"column\": \"KASSEL\",\n      \"properties\": {\n        \"dtype\": \"number\",\n        \"std\": 0,\n        \"min\": 0,\n        \"max\": 1,\n        \"num_unique_values\": 2,\n        \"samples\": [\n          1,\n          0\n        ],\n        \"semantic_type\": \"\",\n        \"description\": \"\"\n      }\n    },\n    {\n      \"column\": \"LJUBLJANA\",\n      \"properties\": {\n        \"dtype\": \"number\",\n        \"std\": 0,\n        \"min\": 0,\n        \"max\": 1,\n        \"num_unique_values\": 2,\n        \"samples\": [\n          1,\n          0\n        ],\n        \"semantic_type\": \"\",\n        \"description\": \"\"\n      }\n    },\n    {\n      \"column\": \"MAASTRICHT\",\n      \"properties\": {\n        \"dtype\": \"number\",\n        \"std\": 0,\n        \"min\": 0,\n        \"max\": 1,\n        \"num_unique_values\": 2,\n        \"samples\": [\n          1,\n          0\n        ],\n        \"semantic_type\": \"\",\n        \"description\": \"\"\n      }\n    },\n    {\n      \"column\": \"MADRID\",\n      \"properties\": {\n        \"dtype\": \"number\",\n        \"std\": 0,\n        \"min\": 0,\n        \"max\": 1,\n        \"num_unique_values\": 2,\n        \"samples\": [\n          0,\n          1\n        ],\n        \"semantic_type\": \"\",\n        \"description\": \"\"\n      }\n    },\n    {\n      \"column\": \"MUNCHENB\",\n      \"properties\": {\n        \"dtype\": \"number\",\n        \"std\": 0,\n        \"min\": 0,\n        \"max\": 1,\n        \"num_unique_values\": 2,\n        \"samples\": [\n          1,\n          0\n        ],\n        \"semantic_type\": \"\",\n        \"description\": \"\"\n      }\n    },\n    {\n      \"column\": \"OSLO\",\n      \"properties\": {\n        \"dtype\": \"number\",\n        \"std\": 0,\n        \"min\": 0,\n        \"max\": 1,\n        \"num_unique_values\": 2,\n        \"samples\": [\n          1,\n          0\n        ],\n        \"semantic_type\": \"\",\n        \"description\": \"\"\n      }\n    },\n    {\n      \"column\": \"SONNBLICK\",\n      \"properties\": {\n        \"dtype\": \"number\",\n        \"std\": 0,\n        \"min\": 0,\n        \"max\": 0,\n        \"num_unique_values\": 1,\n        \"samples\": [\n          0\n        ],\n        \"semantic_type\": \"\",\n        \"description\": \"\"\n      }\n    },\n    {\n      \"column\": \"STOCKHOLM\",\n      \"properties\": {\n        \"dtype\": \"number\",\n        \"std\": 0,\n        \"min\": 0,\n        \"max\": 1,\n        \"num_unique_values\": 2,\n        \"samples\": [\n          1\n        ],\n        \"semantic_type\": \"\",\n        \"description\": \"\"\n      }\n    },\n    {\n      \"column\": \"VALENTIA\",\n      \"properties\": {\n        \"dtype\": \"number\",\n        \"std\": 0,\n        \"min\": 0,\n        \"max\": 1,\n        \"num_unique_values\": 2,\n        \"samples\": [\n          1\n        ],\n        \"semantic_type\": \"\",\n        \"description\": \"\"\n      }\n    }\n  ]\n}",
       "type": "dataframe",
       "variable_name": "y_prediction"
      },
      "text/html": [
       "\n",
       "  <div id=\"df-8cbb50e4-3edf-4fa7-b6e0-f71db3eb58f9\" class=\"colab-df-container\">\n",
       "    <div>\n",
       "<style scoped>\n",
       "    .dataframe tbody tr th:only-of-type {\n",
       "        vertical-align: middle;\n",
       "    }\n",
       "\n",
       "    .dataframe tbody tr th {\n",
       "        vertical-align: top;\n",
       "    }\n",
       "\n",
       "    .dataframe thead th {\n",
       "        text-align: right;\n",
       "    }\n",
       "</style>\n",
       "<table border=\"1\" class=\"dataframe\">\n",
       "  <thead>\n",
       "    <tr style=\"text-align: right;\">\n",
       "      <th></th>\n",
       "      <th>BASEL</th>\n",
       "      <th>BELGRADE</th>\n",
       "      <th>BUDAPEST</th>\n",
       "      <th>DEBILT</th>\n",
       "      <th>DUSSELDORF</th>\n",
       "      <th>HEATHROW</th>\n",
       "      <th>KASSEL</th>\n",
       "      <th>LJUBLJANA</th>\n",
       "      <th>MAASTRICHT</th>\n",
       "      <th>MADRID</th>\n",
       "      <th>MUNCHENB</th>\n",
       "      <th>OSLO</th>\n",
       "      <th>SONNBLICK</th>\n",
       "      <th>STOCKHOLM</th>\n",
       "      <th>VALENTIA</th>\n",
       "    </tr>\n",
       "  </thead>\n",
       "  <tbody>\n",
       "    <tr>\n",
       "      <th>0</th>\n",
       "      <td>1</td>\n",
       "      <td>1</td>\n",
       "      <td>0</td>\n",
       "      <td>0</td>\n",
       "      <td>0</td>\n",
       "      <td>1</td>\n",
       "      <td>0</td>\n",
       "      <td>0</td>\n",
       "      <td>0</td>\n",
       "      <td>1</td>\n",
       "      <td>0</td>\n",
       "      <td>0</td>\n",
       "      <td>0</td>\n",
       "      <td>0</td>\n",
       "      <td>0</td>\n",
       "    </tr>\n",
       "    <tr>\n",
       "      <th>1</th>\n",
       "      <td>0</td>\n",
       "      <td>0</td>\n",
       "      <td>0</td>\n",
       "      <td>0</td>\n",
       "      <td>0</td>\n",
       "      <td>0</td>\n",
       "      <td>0</td>\n",
       "      <td>0</td>\n",
       "      <td>0</td>\n",
       "      <td>0</td>\n",
       "      <td>0</td>\n",
       "      <td>0</td>\n",
       "      <td>0</td>\n",
       "      <td>0</td>\n",
       "      <td>0</td>\n",
       "    </tr>\n",
       "    <tr>\n",
       "      <th>2</th>\n",
       "      <td>1</td>\n",
       "      <td>1</td>\n",
       "      <td>1</td>\n",
       "      <td>0</td>\n",
       "      <td>0</td>\n",
       "      <td>1</td>\n",
       "      <td>0</td>\n",
       "      <td>0</td>\n",
       "      <td>0</td>\n",
       "      <td>1</td>\n",
       "      <td>1</td>\n",
       "      <td>0</td>\n",
       "      <td>0</td>\n",
       "      <td>0</td>\n",
       "      <td>0</td>\n",
       "    </tr>\n",
       "    <tr>\n",
       "      <th>3</th>\n",
       "      <td>1</td>\n",
       "      <td>0</td>\n",
       "      <td>0</td>\n",
       "      <td>0</td>\n",
       "      <td>0</td>\n",
       "      <td>0</td>\n",
       "      <td>0</td>\n",
       "      <td>1</td>\n",
       "      <td>0</td>\n",
       "      <td>1</td>\n",
       "      <td>0</td>\n",
       "      <td>0</td>\n",
       "      <td>0</td>\n",
       "      <td>0</td>\n",
       "      <td>0</td>\n",
       "    </tr>\n",
       "    <tr>\n",
       "      <th>4</th>\n",
       "      <td>0</td>\n",
       "      <td>0</td>\n",
       "      <td>0</td>\n",
       "      <td>0</td>\n",
       "      <td>0</td>\n",
       "      <td>0</td>\n",
       "      <td>0</td>\n",
       "      <td>0</td>\n",
       "      <td>0</td>\n",
       "      <td>0</td>\n",
       "      <td>0</td>\n",
       "      <td>0</td>\n",
       "      <td>0</td>\n",
       "      <td>0</td>\n",
       "      <td>0</td>\n",
       "    </tr>\n",
       "  </tbody>\n",
       "</table>\n",
       "</div>\n",
       "    <div class=\"colab-df-buttons\">\n",
       "\n",
       "  <div class=\"colab-df-container\">\n",
       "    <button class=\"colab-df-convert\" onclick=\"convertToInteractive('df-8cbb50e4-3edf-4fa7-b6e0-f71db3eb58f9')\"\n",
       "            title=\"Convert this dataframe to an interactive table.\"\n",
       "            style=\"display:none;\">\n",
       "\n",
       "  <svg xmlns=\"http://www.w3.org/2000/svg\" height=\"24px\" viewBox=\"0 -960 960 960\">\n",
       "    <path d=\"M120-120v-720h720v720H120Zm60-500h600v-160H180v160Zm220 220h160v-160H400v160Zm0 220h160v-160H400v160ZM180-400h160v-160H180v160Zm440 0h160v-160H620v160ZM180-180h160v-160H180v160Zm440 0h160v-160H620v160Z\"/>\n",
       "  </svg>\n",
       "    </button>\n",
       "\n",
       "  <style>\n",
       "    .colab-df-container {\n",
       "      display:flex;\n",
       "      gap: 12px;\n",
       "    }\n",
       "\n",
       "    .colab-df-convert {\n",
       "      background-color: #E8F0FE;\n",
       "      border: none;\n",
       "      border-radius: 50%;\n",
       "      cursor: pointer;\n",
       "      display: none;\n",
       "      fill: #1967D2;\n",
       "      height: 32px;\n",
       "      padding: 0 0 0 0;\n",
       "      width: 32px;\n",
       "    }\n",
       "\n",
       "    .colab-df-convert:hover {\n",
       "      background-color: #E2EBFA;\n",
       "      box-shadow: 0px 1px 2px rgba(60, 64, 67, 0.3), 0px 1px 3px 1px rgba(60, 64, 67, 0.15);\n",
       "      fill: #174EA6;\n",
       "    }\n",
       "\n",
       "    .colab-df-buttons div {\n",
       "      margin-bottom: 4px;\n",
       "    }\n",
       "\n",
       "    [theme=dark] .colab-df-convert {\n",
       "      background-color: #3B4455;\n",
       "      fill: #D2E3FC;\n",
       "    }\n",
       "\n",
       "    [theme=dark] .colab-df-convert:hover {\n",
       "      background-color: #434B5C;\n",
       "      box-shadow: 0px 1px 3px 1px rgba(0, 0, 0, 0.15);\n",
       "      filter: drop-shadow(0px 1px 2px rgba(0, 0, 0, 0.3));\n",
       "      fill: #FFFFFF;\n",
       "    }\n",
       "  </style>\n",
       "\n",
       "    <script>\n",
       "      const buttonEl =\n",
       "        document.querySelector('#df-8cbb50e4-3edf-4fa7-b6e0-f71db3eb58f9 button.colab-df-convert');\n",
       "      buttonEl.style.display =\n",
       "        google.colab.kernel.accessAllowed ? 'block' : 'none';\n",
       "\n",
       "      async function convertToInteractive(key) {\n",
       "        const element = document.querySelector('#df-8cbb50e4-3edf-4fa7-b6e0-f71db3eb58f9');\n",
       "        const dataTable =\n",
       "          await google.colab.kernel.invokeFunction('convertToInteractive',\n",
       "                                                    [key], {});\n",
       "        if (!dataTable) return;\n",
       "\n",
       "        const docLinkHtml = 'Like what you see? Visit the ' +\n",
       "          '<a target=\"_blank\" href=https://colab.research.google.com/notebooks/data_table.ipynb>data table notebook</a>'\n",
       "          + ' to learn more about interactive tables.';\n",
       "        element.innerHTML = '';\n",
       "        dataTable['output_type'] = 'display_data';\n",
       "        await google.colab.output.renderOutput(dataTable, element);\n",
       "        const docLink = document.createElement('div');\n",
       "        docLink.innerHTML = docLinkHtml;\n",
       "        element.appendChild(docLink);\n",
       "      }\n",
       "    </script>\n",
       "  </div>\n",
       "\n",
       "\n",
       "<div id=\"df-88af1e2f-e459-4c8f-8ca0-2272a3e4c7a8\">\n",
       "  <button class=\"colab-df-quickchart\" onclick=\"quickchart('df-88af1e2f-e459-4c8f-8ca0-2272a3e4c7a8')\"\n",
       "            title=\"Suggest charts\"\n",
       "            style=\"display:none;\">\n",
       "\n",
       "<svg xmlns=\"http://www.w3.org/2000/svg\" height=\"24px\"viewBox=\"0 0 24 24\"\n",
       "     width=\"24px\">\n",
       "    <g>\n",
       "        <path d=\"M19 3H5c-1.1 0-2 .9-2 2v14c0 1.1.9 2 2 2h14c1.1 0 2-.9 2-2V5c0-1.1-.9-2-2-2zM9 17H7v-7h2v7zm4 0h-2V7h2v10zm4 0h-2v-4h2v4z\"/>\n",
       "    </g>\n",
       "</svg>\n",
       "  </button>\n",
       "\n",
       "<style>\n",
       "  .colab-df-quickchart {\n",
       "      --bg-color: #E8F0FE;\n",
       "      --fill-color: #1967D2;\n",
       "      --hover-bg-color: #E2EBFA;\n",
       "      --hover-fill-color: #174EA6;\n",
       "      --disabled-fill-color: #AAA;\n",
       "      --disabled-bg-color: #DDD;\n",
       "  }\n",
       "\n",
       "  [theme=dark] .colab-df-quickchart {\n",
       "      --bg-color: #3B4455;\n",
       "      --fill-color: #D2E3FC;\n",
       "      --hover-bg-color: #434B5C;\n",
       "      --hover-fill-color: #FFFFFF;\n",
       "      --disabled-bg-color: #3B4455;\n",
       "      --disabled-fill-color: #666;\n",
       "  }\n",
       "\n",
       "  .colab-df-quickchart {\n",
       "    background-color: var(--bg-color);\n",
       "    border: none;\n",
       "    border-radius: 50%;\n",
       "    cursor: pointer;\n",
       "    display: none;\n",
       "    fill: var(--fill-color);\n",
       "    height: 32px;\n",
       "    padding: 0;\n",
       "    width: 32px;\n",
       "  }\n",
       "\n",
       "  .colab-df-quickchart:hover {\n",
       "    background-color: var(--hover-bg-color);\n",
       "    box-shadow: 0 1px 2px rgba(60, 64, 67, 0.3), 0 1px 3px 1px rgba(60, 64, 67, 0.15);\n",
       "    fill: var(--button-hover-fill-color);\n",
       "  }\n",
       "\n",
       "  .colab-df-quickchart-complete:disabled,\n",
       "  .colab-df-quickchart-complete:disabled:hover {\n",
       "    background-color: var(--disabled-bg-color);\n",
       "    fill: var(--disabled-fill-color);\n",
       "    box-shadow: none;\n",
       "  }\n",
       "\n",
       "  .colab-df-spinner {\n",
       "    border: 2px solid var(--fill-color);\n",
       "    border-color: transparent;\n",
       "    border-bottom-color: var(--fill-color);\n",
       "    animation:\n",
       "      spin 1s steps(1) infinite;\n",
       "  }\n",
       "\n",
       "  @keyframes spin {\n",
       "    0% {\n",
       "      border-color: transparent;\n",
       "      border-bottom-color: var(--fill-color);\n",
       "      border-left-color: var(--fill-color);\n",
       "    }\n",
       "    20% {\n",
       "      border-color: transparent;\n",
       "      border-left-color: var(--fill-color);\n",
       "      border-top-color: var(--fill-color);\n",
       "    }\n",
       "    30% {\n",
       "      border-color: transparent;\n",
       "      border-left-color: var(--fill-color);\n",
       "      border-top-color: var(--fill-color);\n",
       "      border-right-color: var(--fill-color);\n",
       "    }\n",
       "    40% {\n",
       "      border-color: transparent;\n",
       "      border-right-color: var(--fill-color);\n",
       "      border-top-color: var(--fill-color);\n",
       "    }\n",
       "    60% {\n",
       "      border-color: transparent;\n",
       "      border-right-color: var(--fill-color);\n",
       "    }\n",
       "    80% {\n",
       "      border-color: transparent;\n",
       "      border-right-color: var(--fill-color);\n",
       "      border-bottom-color: var(--fill-color);\n",
       "    }\n",
       "    90% {\n",
       "      border-color: transparent;\n",
       "      border-bottom-color: var(--fill-color);\n",
       "    }\n",
       "  }\n",
       "</style>\n",
       "\n",
       "  <script>\n",
       "    async function quickchart(key) {\n",
       "      const quickchartButtonEl =\n",
       "        document.querySelector('#' + key + ' button');\n",
       "      quickchartButtonEl.disabled = true;  // To prevent multiple clicks.\n",
       "      quickchartButtonEl.classList.add('colab-df-spinner');\n",
       "      try {\n",
       "        const charts = await google.colab.kernel.invokeFunction(\n",
       "            'suggestCharts', [key], {});\n",
       "      } catch (error) {\n",
       "        console.error('Error during call to suggestCharts:', error);\n",
       "      }\n",
       "      quickchartButtonEl.classList.remove('colab-df-spinner');\n",
       "      quickchartButtonEl.classList.add('colab-df-quickchart-complete');\n",
       "    }\n",
       "    (() => {\n",
       "      let quickchartButtonEl =\n",
       "        document.querySelector('#df-88af1e2f-e459-4c8f-8ca0-2272a3e4c7a8 button');\n",
       "      quickchartButtonEl.style.display =\n",
       "        google.colab.kernel.accessAllowed ? 'block' : 'none';\n",
       "    })();\n",
       "  </script>\n",
       "</div>\n",
       "\n",
       "    </div>\n",
       "  </div>\n"
      ],
      "text/plain": [
       "   BASEL  BELGRADE  BUDAPEST  DEBILT  DUSSELDORF  HEATHROW  KASSEL  LJUBLJANA  \\\n",
       "0      1         1         0       0           0         1       0          0   \n",
       "1      0         0         0       0           0         0       0          0   \n",
       "2      1         1         1       0           0         1       0          0   \n",
       "3      1         0         0       0           0         0       0          1   \n",
       "4      0         0         0       0           0         0       0          0   \n",
       "\n",
       "   MAASTRICHT  MADRID  MUNCHENB  OSLO  SONNBLICK  STOCKHOLM  VALENTIA  \n",
       "0           0       1         0     0          0          0         0  \n",
       "1           0       0         0     0          0          0         0  \n",
       "2           0       1         1     0          0          0         0  \n",
       "3           0       1         0     0          0          0         0  \n",
       "4           0       0         0     0          0          0         0  "
      ]
     },
     "execution_count": 231,
     "metadata": {},
     "output_type": "execute_result"
    }
   ],
   "source": [
    "y_prediction.head()"
   ]
  },
  {
   "cell_type": "code",
   "execution_count": 232,
   "id": "2cec3131-35f6-4f38-81cb-052f7effe0d0",
   "metadata": {
    "colab": {
     "base_uri": "https://localhost:8080/"
    },
    "id": "2cec3131-35f6-4f38-81cb-052f7effe0d0",
    "outputId": "50a8f994-7c00-484e-fa4b-a43b767c9c3d"
   },
   "outputs": [
    {
     "data": {
      "text/plain": [
       "BASEL         2\n",
       "BELGRADE      2\n",
       "BUDAPEST      2\n",
       "DEBILT        2\n",
       "DUSSELDORF    2\n",
       "HEATHROW      2\n",
       "KASSEL        2\n",
       "LJUBLJANA     2\n",
       "MAASTRICHT    2\n",
       "MADRID        2\n",
       "MUNCHENB      2\n",
       "OSLO          2\n",
       "SONNBLICK     1\n",
       "STOCKHOLM     2\n",
       "VALENTIA      2\n",
       "dtype: int64"
      ]
     },
     "execution_count": 232,
     "metadata": {},
     "output_type": "execute_result"
    }
   ],
   "source": [
    "y_prediction.nunique()"
   ]
  },
  {
   "cell_type": "code",
   "execution_count": 233,
   "id": "436871b3-ab9b-4a79-b02a-b5c61a492fd0",
   "metadata": {
    "colab": {
     "base_uri": "https://localhost:8080/"
    },
    "id": "436871b3-ab9b-4a79-b02a-b5c61a492fd0",
    "outputId": "a19cc56a-db7c-4f06-8ade-715ff6d79017"
   },
   "outputs": [
    {
     "name": "stdout",
     "output_type": "stream",
     "text": [
      "[[1 1 0 ... 0 0 0]\n",
      " [0 0 0 ... 0 0 0]\n",
      " [1 1 1 ... 0 0 0]\n",
      " ...\n",
      " [0 0 0 ... 0 0 0]\n",
      " [0 0 0 ... 0 0 0]\n",
      " [0 0 0 ... 0 0 0]]\n"
     ]
    }
   ],
   "source": [
    "print(y_test)"
   ]
  },
  {
   "cell_type": "code",
   "execution_count": 234,
   "id": "90bc580d-4bcd-465d-9143-205730a16972",
   "metadata": {
    "id": "90bc580d-4bcd-465d-9143-205730a16972"
   },
   "outputs": [],
   "source": [
    "def confusion_matrix2(Y_true, Y_pred):\n",
    "    Y_true = pd.Series([activities[y] for y in np.argmax(Y_true, axis=0)])\n",
    "    Y_pred = pd.Series([activities[y] for y in np.argmax(Y_pred, axis=0)])\n",
    "    return pd.crosstab(Y_true, Y_pred, rownames=['True'], colnames=['Pred'])"
   ]
  },
  {
   "cell_type": "code",
   "execution_count": 235,
   "id": "Jh17x_9VPJRy",
   "metadata": {
    "colab": {
     "base_uri": "https://localhost:8080/"
    },
    "id": "Jh17x_9VPJRy",
    "outputId": "69f548cd-6aa8-4e2e-f5d8-2aa5530a57dd"
   },
   "outputs": [
    {
     "name": "stdout",
     "output_type": "stream",
     "text": [
      "216/216 [==============================] - 1s 3ms/step\n",
      "Pred        BASEL  BELGRADE  BUDAPEST  DEBILT  DUSSELDORF  HEATHROW  KASSEL  \\\n",
      "True                                                                          \n",
      "BASEL         125      1135       514     189         155       816     106   \n",
      "BELGRADE        0       542       459      27          25         6       8   \n",
      "BUDAPEST        0         1       102      10           2         5      12   \n",
      "DEBILT          0         0         0      22          14         4      19   \n",
      "DUSSELDORF      0         0         0       0           7         5       4   \n",
      "HEATHROW        0         0         0       0           0        28       1   \n",
      "KASSEL          0         0         1       0           0         0       4   \n",
      "LJUBLJANA       0         0         0       0           0         0       0   \n",
      "MAASTRICHT      0         0         0       0           0         0       0   \n",
      "MADRID          0         1         1       0           0         0       0   \n",
      "MUNCHENB        0         0         0       0           0         0       0   \n",
      "OSLO            0         0         0       0           0         0       0   \n",
      "STOCKHOLM       0         0         0       0           0         0       0   \n",
      "VALENTIA        0         0         0       0           0         0       0   \n",
      "\n",
      "Pred        LJUBLJANA  MAASTRICHT  MADRID  MUNCHENB  OSLO  STOCKHOLM  VALENTIA  \n",
      "True                                                                            \n",
      "BASEL             129          12     722       354    33         14       143  \n",
      "BELGRADE           29           1     181        13     6          6         2  \n",
      "BUDAPEST            4           1      90        11     2          5         0  \n",
      "DEBILT              0           1      21         5     6          3         1  \n",
      "DUSSELDORF          1           2      11         0     1          1         0  \n",
      "HEATHROW            4           0      56         0     4          4         2  \n",
      "KASSEL              3           0       1         2     0          2         0  \n",
      "LJUBLJANA          19           0      45         5     0          1         1  \n",
      "MAASTRICHT          0           6       1         1     0          0         1  \n",
      "MADRID              0           0     537         2     3          0         2  \n",
      "MUNCHENB            0           0       0         7     1          0         0  \n",
      "OSLO                0           0       0         0     6          1         0  \n",
      "STOCKHOLM           0           0       0         0     0          4         0  \n",
      "VALENTIA            0           0       0         0     0          0         3  \n"
     ]
    }
   ],
   "source": [
    "print(confusion_matrix(y_test, model.predict(X_test)))"
   ]
  },
  {
   "cell_type": "code",
   "execution_count": 237,
   "id": "fc35d08d-bd53-4821-91ae-e24be412a535",
   "metadata": {
    "colab": {
     "base_uri": "https://localhost:8080/",
     "height": 998
    },
    "id": "fc35d08d-bd53-4821-91ae-e24be412a535",
    "outputId": "e137ab9e-9ac7-4d1b-8943-2d41ea1a5f8c"
   },
   "outputs": [
    {
     "data": {
      "image/png": "[encoded data removed]",
      "text/plain": [
       "<Figure size 2500x1500 with 16 Axes>"
      ]
     },
     "metadata": {},
     "output_type": "display_data"
    }
   ],
   "source": [
    "import matplotlib.pyplot as plt\n",
    "from sklearn.metrics import confusion_matrix, ConfusionMatrixDisplay\n",
    "\n",
    "# Dummy data for illustration\n",
    "y_test = np.random.randint(0, 2, (100, 15))\n",
    "lst = np.random.randint(0, 2, (100, 15))\n",
    "locations = ['Location{}'.format(i) for i in range(15)]\n",
    "\n",
    "f, axes = plt.subplots(3, 5, figsize=(25, 15))\n",
    "axes = axes.ravel()\n",
    "\n",
    "for i in range(15):\n",
    "    # Calculate confusion matrix\n",
    "    cm = confusion_matrix(y_test[:, i], lst[:, i])\n",
    "\n",
    "    # Create display\n",
    "    disp = ConfusionMatrixDisplay(confusion_matrix=cm)\n",
    "    disp.plot(ax=axes[i], values_format='.4g')\n",
    "\n",
    "    # Set title and adjust labels\n",
    "    disp.ax_.set_title(locations[i])\n",
    "    if i < 10:\n",
    "        disp.ax_.set_xlabel('')\n",
    "    if i % 5 != 0:\n",
    "        disp.ax_.set_ylabel('')\n",
    "    disp.im_.colorbar.remove()\n",
    "\n",
    "# Adjust layout and add a colorbar\n",
    "plt.subplots_adjust(wspace=0.10, hspace=0.1)\n",
    "f.colorbar(disp.im_, ax=axes, orientation='vertical')\n",
    "plt.show()\n"
   ]
  },
  {
   "cell_type": "markdown",
   "id": "93a00d1a-2dc5-47d7-ab5c-35286326ee67",
   "metadata": {},
   "source": [
    "Comparing the Bayesian model and HAR model based on the confusion matrices reveals the following key points:\n",
    "\n",
    "1. **Scale and Data Volume**: The HAR model operates on a significantly larger scale, with data counts in the thousands compared to the tens and hundreds in the Bayesian model. This suggests that the HAR model was tested on a much larger dataset.\n",
    "\n",
    "2. **Model Performance**: The HAR model shows a higher number of correct predictions across most locations, indicating superior performance in accuracy. This is evident from the predominantly yellow and purple areas, which represent true positives and true negatives, respectively.\n",
    "\n",
    "3. **Error Rates**: The Bayesian model, while showing balanced performance in some locations, generally has higher relative error rates (green and teal areas) compared to the HAR model.\n",
    "\n",
    "4. **Overall Efficacy**: The HAR model appears to be more effective and robust, possibly due to better training, more extensive data handling, or a more suitable application scenario for its predictive capabilities.\n",
    "\n",
    "The HAR model, therefore, is recommended for scenarios requiring high accuracy and reliability, provided it is feasible to handle its larger data requirements.\n",
    "\n",
    "Above is the final confusion matrix\n",
    "Compare your new values with the ones from your model in Exercise 2.2. Has the optimization helped? Does it seem to be overfitting the data? Record your observations in the same document from Part 1, along with a screenshot of the final confusion matrix.\n",
    "After Bayesian optimization, the first 15x15 convergence metric was generated, but I question the accuracy of this. If it was overfitted, most of the numbers should be located along the diagonal of the convergence matrix, but instead, this convergence matrix shows a lot of inaccuracies.\n",
    "\n",
    "**Part 3**\n",
    "\n",
    "1. In this same document, write out how you might break the data down into smaller components to test and iterate upon. Which model would you use for each iteration?\n",
    "In Exercise 2.2, you learned that different climate factors have different degrees of importance in different cities. And when we analyzed data from stations across Europe, the accuracy was lower than when we analyzed a single station. Predicting the weather for all of Europe should be done by breaking it down into smaller components and then combining the results. For example, in Exercise 2.2, we used data from other cities with similar climates to clean up missing or strange data.\n",
    "\n",
    "Hence, I expect that with KNN or K-means clustering, we can divide the European cities into a few clusters. And by analyzing the climate of these clusters, I think we can make more accurate climate predictions for the whole of Europe.\n",
    "\n",
    "2. Expand on your observations from the random forest and deep learning models.\n",
    "Random forests and deep learning each have different implications.\n",
    "\n",
    "The main thing that random forests can tell us is importance. You can see which cities or which climate factors have more influence on pleasant weather. Deep learning models like CNN are thought to be used to learn and predict data.\n",
    "\n",
    "4. What variables would you recommend that Air Ambulance pay the most attention to while deciding whether it’s safe to fly?\n",
    "Air Ambulance, which uses helicopters, needs to pay attention to Pleasant day, a climate factor that ClimateWins is primarily interested in. Pleasant day is the most commonly applicable criterion for outdoor activities. In addition, I would recommend that Air Ambulance pay more attention to wind speed, cloud cover, and precipitation. However, since all of these factors combine to determine a pleasant day, I recommend that Air Ambulance also prioritize a pleasant day."
   ]
  }
 ],
 "metadata": {
  "colab": {
   "provenance": []
  },
  "kernelspec": {
   "display_name": "Python 3 (ipykernel)",
   "language": "python",
   "name": "python3"
  },
  "language_info": {
   "codemirror_mode": {
    "name": "ipython",
    "version": 3
   },
   "file_extension": ".py",
   "mimetype": "text/x-python",
   "name": "python",
   "nbconvert_exporter": "python",
   "pygments_lexer": "ipython3",
   "version": "3.11.7"
  }
 },
 "nbformat": 4,
 "nbformat_minor": 5
}
